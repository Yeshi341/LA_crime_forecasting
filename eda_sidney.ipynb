{
 "metadata": {
  "language_info": {
   "codemirror_mode": {
    "name": "ipython",
    "version": 3
   },
   "file_extension": ".py",
   "mimetype": "text/x-python",
   "name": "python",
   "nbconvert_exporter": "python",
   "pygments_lexer": "ipython3",
   "version": "3.6.9-final"
  },
  "orig_nbformat": 2,
  "kernelspec": {
   "name": "python3",
   "display_name": "Python 3"
  }
 },
 "nbformat": 4,
 "nbformat_minor": 2,
 "cells": [
  {
   "cell_type": "code",
   "execution_count": 4,
   "metadata": {},
   "outputs": [],
   "source": [
    "import numpy as np\n",
    "import pandas as pd\n",
    "pd.options.display.max_columns = 50\n",
    "import matplotlib.pyplot as pyplot\n",
    "%matplotlib inline\n",
    "import seaborn as sns"
   ]
  },
  {
   "source": [
    "## load in cleaned pickled dataframe"
   ],
   "cell_type": "markdown",
   "metadata": {}
  },
  {
   "cell_type": "code",
   "execution_count": 5,
   "metadata": {},
   "outputs": [],
   "source": [
    "clean_df = pd.read_pickle('data/pickled/cleaned_df.pkl')"
   ]
  },
  {
   "cell_type": "code",
   "execution_count": 6,
   "metadata": {},
   "outputs": [
    {
     "output_type": "execute_result",
     "data": {
      "text/plain": [
       "               Area ID  Reporting District  Crime Code  Victim Age Victim Sex  \\\n",
       "Date Occurred                                                                   \n",
       "2010-01-01          21                2156         354          21          M   \n",
       "2010-01-01           5                 563         420           0          X   \n",
       "2010-01-01           5                 519         510           0          X   \n",
       "2010-01-01           5                 506         330          49          M   \n",
       "2010-01-01           5                 503         624          52          F   \n",
       "\n",
       "              Victim Descent  Premise Code Status Code latitude  longitude  \n",
       "Date Occurred                                                               \n",
       "2010-01-01                 H         404.0          IC  34.1875   -118.603  \n",
       "2010-01-01                 X         104.0          IC   33.737  -118.2967  \n",
       "2010-01-01                 X         101.0          IC  33.7926  -118.2468  \n",
       "2010-01-01                 H         501.0          IC  33.8325  -118.3039  \n",
       "2010-01-01                 H         101.0          AO  33.7909   -118.296  "
      ],
      "text/html": "<div>\n<style scoped>\n    .dataframe tbody tr th:only-of-type {\n        vertical-align: middle;\n    }\n\n    .dataframe tbody tr th {\n        vertical-align: top;\n    }\n\n    .dataframe thead th {\n        text-align: right;\n    }\n</style>\n<table border=\"1\" class=\"dataframe\">\n  <thead>\n    <tr style=\"text-align: right;\">\n      <th></th>\n      <th>Area ID</th>\n      <th>Reporting District</th>\n      <th>Crime Code</th>\n      <th>Victim Age</th>\n      <th>Victim Sex</th>\n      <th>Victim Descent</th>\n      <th>Premise Code</th>\n      <th>Status Code</th>\n      <th>latitude</th>\n      <th>longitude</th>\n    </tr>\n    <tr>\n      <th>Date Occurred</th>\n      <th></th>\n      <th></th>\n      <th></th>\n      <th></th>\n      <th></th>\n      <th></th>\n      <th></th>\n      <th></th>\n      <th></th>\n      <th></th>\n    </tr>\n  </thead>\n  <tbody>\n    <tr>\n      <th>2010-01-01</th>\n      <td>21</td>\n      <td>2156</td>\n      <td>354</td>\n      <td>21</td>\n      <td>M</td>\n      <td>H</td>\n      <td>404.0</td>\n      <td>IC</td>\n      <td>34.1875</td>\n      <td>-118.603</td>\n    </tr>\n    <tr>\n      <th>2010-01-01</th>\n      <td>5</td>\n      <td>563</td>\n      <td>420</td>\n      <td>0</td>\n      <td>X</td>\n      <td>X</td>\n      <td>104.0</td>\n      <td>IC</td>\n      <td>33.737</td>\n      <td>-118.2967</td>\n    </tr>\n    <tr>\n      <th>2010-01-01</th>\n      <td>5</td>\n      <td>519</td>\n      <td>510</td>\n      <td>0</td>\n      <td>X</td>\n      <td>X</td>\n      <td>101.0</td>\n      <td>IC</td>\n      <td>33.7926</td>\n      <td>-118.2468</td>\n    </tr>\n    <tr>\n      <th>2010-01-01</th>\n      <td>5</td>\n      <td>506</td>\n      <td>330</td>\n      <td>49</td>\n      <td>M</td>\n      <td>H</td>\n      <td>501.0</td>\n      <td>IC</td>\n      <td>33.8325</td>\n      <td>-118.3039</td>\n    </tr>\n    <tr>\n      <th>2010-01-01</th>\n      <td>5</td>\n      <td>503</td>\n      <td>624</td>\n      <td>52</td>\n      <td>F</td>\n      <td>H</td>\n      <td>101.0</td>\n      <td>AO</td>\n      <td>33.7909</td>\n      <td>-118.296</td>\n    </tr>\n  </tbody>\n</table>\n</div>"
     },
     "metadata": {},
     "execution_count": 6
    }
   ],
   "source": [
    "clean_df.head()"
   ]
  },
  {
   "cell_type": "code",
   "execution_count": null,
   "metadata": {},
   "outputs": [],
   "source": []
  }
 ]
}