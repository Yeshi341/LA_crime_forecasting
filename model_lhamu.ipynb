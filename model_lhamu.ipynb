{
 "cells": [
  {
   "cell_type": "code",
   "execution_count": 2,
   "metadata": {},
   "outputs": [],
   "source": [
    "import pandas as pd\n",
    "import numpy as np"
   ]
  },
  {
   "cell_type": "code",
   "execution_count": 3,
   "metadata": {},
   "outputs": [],
   "source": [
    "annual_crime = pd.read_pickle('data/pickled/annual_crime.pkl')\n",
    "monthly_crime = pd.read_pickle('data/pickled/monthly_crime.pkl')"
   ]
  },
  {
   "cell_type": "code",
   "execution_count": 4,
   "metadata": {},
   "outputs": [
    {
     "data": {
      "text/html": [
       "<div>\n",
       "<style scoped>\n",
       "    .dataframe tbody tr th:only-of-type {\n",
       "        vertical-align: middle;\n",
       "    }\n",
       "\n",
       "    .dataframe tbody tr th {\n",
       "        vertical-align: top;\n",
       "    }\n",
       "\n",
       "    .dataframe thead th {\n",
       "        text-align: right;\n",
       "    }\n",
       "</style>\n",
       "<table border=\"1\" class=\"dataframe\">\n",
       "  <thead>\n",
       "    <tr style=\"text-align: right;\">\n",
       "      <th></th>\n",
       "      <th>2010</th>\n",
       "      <th>2011</th>\n",
       "      <th>2012</th>\n",
       "      <th>2013</th>\n",
       "      <th>2014</th>\n",
       "      <th>2015</th>\n",
       "      <th>2016</th>\n",
       "      <th>2017</th>\n",
       "      <th>2018</th>\n",
       "    </tr>\n",
       "  </thead>\n",
       "  <tbody>\n",
       "    <tr>\n",
       "      <th>0</th>\n",
       "      <td>19373</td>\n",
       "      <td>17987</td>\n",
       "      <td>17758</td>\n",
       "      <td>16636</td>\n",
       "      <td>16049</td>\n",
       "      <td>18190</td>\n",
       "      <td>18881</td>\n",
       "      <td>19393</td>\n",
       "      <td>19131</td>\n",
       "    </tr>\n",
       "    <tr>\n",
       "      <th>1</th>\n",
       "      <td>15999</td>\n",
       "      <td>14661</td>\n",
       "      <td>15317</td>\n",
       "      <td>14037</td>\n",
       "      <td>13661</td>\n",
       "      <td>15981</td>\n",
       "      <td>17284</td>\n",
       "      <td>17057</td>\n",
       "      <td>17024</td>\n",
       "    </tr>\n",
       "    <tr>\n",
       "      <th>2</th>\n",
       "      <td>18107</td>\n",
       "      <td>16922</td>\n",
       "      <td>16563</td>\n",
       "      <td>16177</td>\n",
       "      <td>15576</td>\n",
       "      <td>17963</td>\n",
       "      <td>18224</td>\n",
       "      <td>19336</td>\n",
       "      <td>18915</td>\n",
       "    </tr>\n",
       "    <tr>\n",
       "      <th>3</th>\n",
       "      <td>17748</td>\n",
       "      <td>16420</td>\n",
       "      <td>16276</td>\n",
       "      <td>15699</td>\n",
       "      <td>15404</td>\n",
       "      <td>16904</td>\n",
       "      <td>18570</td>\n",
       "      <td>18683</td>\n",
       "      <td>19026</td>\n",
       "    </tr>\n",
       "    <tr>\n",
       "      <th>4</th>\n",
       "      <td>17699</td>\n",
       "      <td>16923</td>\n",
       "      <td>17468</td>\n",
       "      <td>16573</td>\n",
       "      <td>16695</td>\n",
       "      <td>17890</td>\n",
       "      <td>19002</td>\n",
       "      <td>19366</td>\n",
       "      <td>19822</td>\n",
       "    </tr>\n",
       "  </tbody>\n",
       "</table>\n",
       "</div>"
      ],
      "text/plain": [
       "    2010   2011   2012   2013   2014   2015   2016   2017   2018\n",
       "0  19373  17987  17758  16636  16049  18190  18881  19393  19131\n",
       "1  15999  14661  15317  14037  13661  15981  17284  17057  17024\n",
       "2  18107  16922  16563  16177  15576  17963  18224  19336  18915\n",
       "3  17748  16420  16276  15699  15404  16904  18570  18683  19026\n",
       "4  17699  16923  17468  16573  16695  17890  19002  19366  19822"
      ]
     },
     "execution_count": 4,
     "metadata": {},
     "output_type": "execute_result"
    }
   ],
   "source": [
    "annual_crime.head()"
   ]
  },
  {
   "cell_type": "code",
   "execution_count": 5,
   "metadata": {},
   "outputs": [
    {
     "data": {
      "text/html": [
       "<div>\n",
       "<style scoped>\n",
       "    .dataframe tbody tr th:only-of-type {\n",
       "        vertical-align: middle;\n",
       "    }\n",
       "\n",
       "    .dataframe tbody tr th {\n",
       "        vertical-align: top;\n",
       "    }\n",
       "\n",
       "    .dataframe thead th {\n",
       "        text-align: right;\n",
       "    }\n",
       "</style>\n",
       "<table border=\"1\" class=\"dataframe\">\n",
       "  <thead>\n",
       "    <tr style=\"text-align: right;\">\n",
       "      <th></th>\n",
       "      <th>crime_count</th>\n",
       "    </tr>\n",
       "    <tr>\n",
       "      <th>Date</th>\n",
       "      <th></th>\n",
       "    </tr>\n",
       "  </thead>\n",
       "  <tbody>\n",
       "    <tr>\n",
       "      <th>2010-01-01</th>\n",
       "      <td>19373</td>\n",
       "    </tr>\n",
       "    <tr>\n",
       "      <th>2010-02-01</th>\n",
       "      <td>15999</td>\n",
       "    </tr>\n",
       "    <tr>\n",
       "      <th>2010-03-01</th>\n",
       "      <td>18107</td>\n",
       "    </tr>\n",
       "    <tr>\n",
       "      <th>2010-04-01</th>\n",
       "      <td>17748</td>\n",
       "    </tr>\n",
       "    <tr>\n",
       "      <th>2010-05-01</th>\n",
       "      <td>17699</td>\n",
       "    </tr>\n",
       "  </tbody>\n",
       "</table>\n",
       "</div>"
      ],
      "text/plain": [
       "            crime_count\n",
       "Date                   \n",
       "2010-01-01        19373\n",
       "2010-02-01        15999\n",
       "2010-03-01        18107\n",
       "2010-04-01        17748\n",
       "2010-05-01        17699"
      ]
     },
     "execution_count": 5,
     "metadata": {},
     "output_type": "execute_result"
    }
   ],
   "source": [
    "monthly_crime.head()"
   ]
  },
  {
   "cell_type": "code",
   "execution_count": null,
   "metadata": {},
   "outputs": [],
   "source": []
  },
  {
   "cell_type": "code",
   "execution_count": null,
   "metadata": {},
   "outputs": [],
   "source": []
  },
  {
   "cell_type": "code",
   "execution_count": null,
   "metadata": {},
   "outputs": [],
   "source": []
  },
  {
   "cell_type": "code",
   "execution_count": null,
   "metadata": {},
   "outputs": [],
   "source": []
  },
  {
   "cell_type": "code",
   "execution_count": null,
   "metadata": {},
   "outputs": [],
   "source": []
  },
  {
   "cell_type": "code",
   "execution_count": null,
   "metadata": {},
   "outputs": [],
   "source": [
    "# X = crime_volume['crime_count']\n",
    "# X = X[np.logical_not(np.isnan(X))]\n",
    "# split = round(len(X) / 2)\n",
    "# X1, X2 = X[0:split], X[split:]\n",
    "# mean1, mean2 = X1.mean(), X2.mean()\n",
    "# var1, var2 = X1.var(), X2.var()\n",
    "# print('mean1=%f, mean2=%f' % (mean1, mean2))\n",
    "# print('variance1=%f, variance2=%f' % (var1, var2))"
   ]
  }
 ],
 "metadata": {
  "kernelspec": {
   "display_name": "learn-env",
   "language": "python",
   "name": "learn-env"
  },
  "language_info": {
   "codemirror_mode": {
    "name": "ipython",
    "version": 3
   },
   "file_extension": ".py",
   "mimetype": "text/x-python",
   "name": "python",
   "nbconvert_exporter": "python",
   "pygments_lexer": "ipython3",
   "version": "3.6.9"
  }
 },
 "nbformat": 4,
 "nbformat_minor": 4
}
