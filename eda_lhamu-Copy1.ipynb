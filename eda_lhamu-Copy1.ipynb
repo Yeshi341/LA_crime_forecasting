{
 "cells": [
  {
   "cell_type": "code",
   "execution_count": 1,
   "metadata": {},
   "outputs": [],
   "source": [
    "import numpy as np\n",
    "import pandas as pd\n",
    "pd.options.display.max_columns = 50\n",
    "import matplotlib.pyplot as plt\n",
    "%matplotlib inline\n",
    "import seaborn as sns\n",
    "import sklearn"
   ]
  },
  {
   "cell_type": "markdown",
   "metadata": {},
   "source": [
    "## Load in `.csv` file"
   ]
  },
  {
   "cell_type": "code",
   "execution_count": 2,
   "metadata": {},
   "outputs": [],
   "source": [
    "df = pd.read_csv('data/extracted/crime-data-from-2010-to-present.csv')"
   ]
  },
  {
   "cell_type": "code",
   "execution_count": null,
   "metadata": {},
   "outputs": [],
   "source": [
    "df.head()"
   ]
  },
  {
   "cell_type": "code",
   "execution_count": null,
   "metadata": {},
   "outputs": [],
   "source": [
    "df.shape"
   ]
  },
  {
   "cell_type": "markdown",
   "metadata": {},
   "source": [
    "## Converting `date occured` to time series index"
   ]
  },
  {
   "cell_type": "code",
   "execution_count": 3,
   "metadata": {},
   "outputs": [],
   "source": [
    "# removing empty time stamp from Date Reported and Date Ocurred\n",
    "df[\"Date Reported\"] = df[\"Date Reported\"].str.replace('T00:00:00', '')\n",
    "df[\"Date Occurred\"] = df[\"Date Occurred\"].str.replace('T00:00:00', '')"
   ]
  },
  {
   "cell_type": "code",
   "execution_count": 4,
   "metadata": {},
   "outputs": [],
   "source": [
    "# setting 'date occured' column as datetime object\n",
    "df['Date Occurred'] = pd.to_datetime(df['Date Occurred'], format= '%Y-%m-%d')"
   ]
  },
  {
   "cell_type": "code",
   "execution_count": 5,
   "metadata": {},
   "outputs": [],
   "source": [
    "df = df.set_index('Date Occurred').sort_index()"
   ]
  },
  {
   "cell_type": "code",
   "execution_count": 6,
   "metadata": {},
   "outputs": [
    {
     "data": {
      "text/html": [
       "<div>\n",
       "<style scoped>\n",
       "    .dataframe tbody tr th:only-of-type {\n",
       "        vertical-align: middle;\n",
       "    }\n",
       "\n",
       "    .dataframe tbody tr th {\n",
       "        vertical-align: top;\n",
       "    }\n",
       "\n",
       "    .dataframe thead th {\n",
       "        text-align: right;\n",
       "    }\n",
       "</style>\n",
       "<table border=\"1\" class=\"dataframe\">\n",
       "  <thead>\n",
       "    <tr style=\"text-align: right;\">\n",
       "      <th></th>\n",
       "      <th>DR Number</th>\n",
       "      <th>Date Reported</th>\n",
       "      <th>Time Occurred</th>\n",
       "      <th>Area ID</th>\n",
       "      <th>Area Name</th>\n",
       "      <th>Reporting District</th>\n",
       "      <th>Crime Code</th>\n",
       "      <th>Crime Code Description</th>\n",
       "      <th>MO Codes</th>\n",
       "      <th>Victim Age</th>\n",
       "      <th>Victim Sex</th>\n",
       "      <th>Victim Descent</th>\n",
       "      <th>Premise Code</th>\n",
       "      <th>Premise Description</th>\n",
       "      <th>Weapon Used Code</th>\n",
       "      <th>Weapon Description</th>\n",
       "      <th>Status Code</th>\n",
       "      <th>Status Description</th>\n",
       "      <th>Crime Code 1</th>\n",
       "      <th>Crime Code 2</th>\n",
       "      <th>Crime Code 3</th>\n",
       "      <th>Crime Code 4</th>\n",
       "      <th>Address</th>\n",
       "      <th>Cross Street</th>\n",
       "      <th>Location</th>\n",
       "    </tr>\n",
       "    <tr>\n",
       "      <th>Date Occurred</th>\n",
       "      <th></th>\n",
       "      <th></th>\n",
       "      <th></th>\n",
       "      <th></th>\n",
       "      <th></th>\n",
       "      <th></th>\n",
       "      <th></th>\n",
       "      <th></th>\n",
       "      <th></th>\n",
       "      <th></th>\n",
       "      <th></th>\n",
       "      <th></th>\n",
       "      <th></th>\n",
       "      <th></th>\n",
       "      <th></th>\n",
       "      <th></th>\n",
       "      <th></th>\n",
       "      <th></th>\n",
       "      <th></th>\n",
       "      <th></th>\n",
       "      <th></th>\n",
       "      <th></th>\n",
       "      <th></th>\n",
       "      <th></th>\n",
       "      <th></th>\n",
       "    </tr>\n",
       "  </thead>\n",
       "  <tbody>\n",
       "    <tr>\n",
       "      <th>2010-01-01</th>\n",
       "      <td>102120693</td>\n",
       "      <td>2010-11-17</td>\n",
       "      <td>1117</td>\n",
       "      <td>21</td>\n",
       "      <td>Topanga</td>\n",
       "      <td>2156</td>\n",
       "      <td>354</td>\n",
       "      <td>THEFT OF IDENTITY</td>\n",
       "      <td>0928 1822</td>\n",
       "      <td>21</td>\n",
       "      <td>M</td>\n",
       "      <td>H</td>\n",
       "      <td>404.0</td>\n",
       "      <td>DEPARTMENT STORE</td>\n",
       "      <td>NaN</td>\n",
       "      <td>NaN</td>\n",
       "      <td>IC</td>\n",
       "      <td>Invest Cont</td>\n",
       "      <td>354.0</td>\n",
       "      <td>NaN</td>\n",
       "      <td>NaN</td>\n",
       "      <td>NaN</td>\n",
       "      <td>21800    VICTORY                      BL</td>\n",
       "      <td>NaN</td>\n",
       "      <td>{'latitude': '34.1875', 'needs_recoding': Fals...</td>\n",
       "    </tr>\n",
       "    <tr>\n",
       "      <th>2010-01-01</th>\n",
       "      <td>100504041</td>\n",
       "      <td>2010-01-02</td>\n",
       "      <td>2130</td>\n",
       "      <td>5</td>\n",
       "      <td>Harbor</td>\n",
       "      <td>563</td>\n",
       "      <td>420</td>\n",
       "      <td>THEFT FROM MOTOR VEHICLE - PETTY ($950 &amp; UNDER)</td>\n",
       "      <td>NaN</td>\n",
       "      <td>0</td>\n",
       "      <td>NaN</td>\n",
       "      <td>NaN</td>\n",
       "      <td>104.0</td>\n",
       "      <td>DRIVEWAY</td>\n",
       "      <td>NaN</td>\n",
       "      <td>NaN</td>\n",
       "      <td>IC</td>\n",
       "      <td>Invest Cont</td>\n",
       "      <td>420.0</td>\n",
       "      <td>NaN</td>\n",
       "      <td>NaN</td>\n",
       "      <td>NaN</td>\n",
       "      <td>900 W  8TH                          ST</td>\n",
       "      <td>NaN</td>\n",
       "      <td>{'latitude': '33.737', 'needs_recoding': False...</td>\n",
       "    </tr>\n",
       "    <tr>\n",
       "      <th>2010-01-01</th>\n",
       "      <td>100504042</td>\n",
       "      <td>2010-01-02</td>\n",
       "      <td>1600</td>\n",
       "      <td>5</td>\n",
       "      <td>Harbor</td>\n",
       "      <td>519</td>\n",
       "      <td>510</td>\n",
       "      <td>VEHICLE - STOLEN</td>\n",
       "      <td>NaN</td>\n",
       "      <td>0</td>\n",
       "      <td>NaN</td>\n",
       "      <td>NaN</td>\n",
       "      <td>101.0</td>\n",
       "      <td>STREET</td>\n",
       "      <td>NaN</td>\n",
       "      <td>NaN</td>\n",
       "      <td>IC</td>\n",
       "      <td>Invest Cont</td>\n",
       "      <td>510.0</td>\n",
       "      <td>NaN</td>\n",
       "      <td>NaN</td>\n",
       "      <td>NaN</td>\n",
       "      <td>1400 E  O                            ST</td>\n",
       "      <td>NaN</td>\n",
       "      <td>{'latitude': '33.7926', 'needs_recoding': Fals...</td>\n",
       "    </tr>\n",
       "  </tbody>\n",
       "</table>\n",
       "</div>"
      ],
      "text/plain": [
       "               DR Number Date Reported  Time Occurred  Area ID Area Name  \\\n",
       "Date Occurred                                                              \n",
       "2010-01-01     102120693    2010-11-17           1117       21   Topanga   \n",
       "2010-01-01     100504041    2010-01-02           2130        5    Harbor   \n",
       "2010-01-01     100504042    2010-01-02           1600        5    Harbor   \n",
       "\n",
       "               Reporting District  Crime Code  \\\n",
       "Date Occurred                                   \n",
       "2010-01-01                   2156         354   \n",
       "2010-01-01                    563         420   \n",
       "2010-01-01                    519         510   \n",
       "\n",
       "                                        Crime Code Description   MO Codes  \\\n",
       "Date Occurred                                                               \n",
       "2010-01-01                                   THEFT OF IDENTITY  0928 1822   \n",
       "2010-01-01     THEFT FROM MOTOR VEHICLE - PETTY ($950 & UNDER)        NaN   \n",
       "2010-01-01                                    VEHICLE - STOLEN        NaN   \n",
       "\n",
       "               Victim Age Victim Sex Victim Descent  Premise Code  \\\n",
       "Date Occurred                                                       \n",
       "2010-01-01             21          M              H         404.0   \n",
       "2010-01-01              0        NaN            NaN         104.0   \n",
       "2010-01-01              0        NaN            NaN         101.0   \n",
       "\n",
       "              Premise Description  Weapon Used Code Weapon Description  \\\n",
       "Date Occurred                                                            \n",
       "2010-01-01       DEPARTMENT STORE               NaN                NaN   \n",
       "2010-01-01               DRIVEWAY               NaN                NaN   \n",
       "2010-01-01                 STREET               NaN                NaN   \n",
       "\n",
       "              Status Code Status Description  Crime Code 1  Crime Code 2  \\\n",
       "Date Occurred                                                              \n",
       "2010-01-01             IC        Invest Cont         354.0           NaN   \n",
       "2010-01-01             IC        Invest Cont         420.0           NaN   \n",
       "2010-01-01             IC        Invest Cont         510.0           NaN   \n",
       "\n",
       "               Crime Code 3  Crime Code 4  \\\n",
       "Date Occurred                               \n",
       "2010-01-01              NaN           NaN   \n",
       "2010-01-01              NaN           NaN   \n",
       "2010-01-01              NaN           NaN   \n",
       "\n",
       "                                                Address Cross Street  \\\n",
       "Date Occurred                                                          \n",
       "2010-01-01     21800    VICTORY                      BL          NaN   \n",
       "2010-01-01       900 W  8TH                          ST          NaN   \n",
       "2010-01-01      1400 E  O                            ST          NaN   \n",
       "\n",
       "                                                       Location   \n",
       "Date Occurred                                                     \n",
       "2010-01-01     {'latitude': '34.1875', 'needs_recoding': Fals...  \n",
       "2010-01-01     {'latitude': '33.737', 'needs_recoding': False...  \n",
       "2010-01-01     {'latitude': '33.7926', 'needs_recoding': Fals...  "
      ]
     },
     "execution_count": 6,
     "metadata": {},
     "output_type": "execute_result"
    }
   ],
   "source": [
    "# checking that it all worked\n",
    "df.head(3)"
   ]
  },
  {
   "cell_type": "markdown",
   "metadata": {},
   "source": [
    "## Data Cleaning\n",
    "Now that we have the dataframe converted to a format for time series analysis, we can do basic data cleaning steps."
   ]
  },
  {
   "cell_type": "code",
   "execution_count": 7,
   "metadata": {},
   "outputs": [
    {
     "data": {
      "text/plain": [
       "DR Number                       0\n",
       "Date Reported                   0\n",
       "Time Occurred                   0\n",
       "Area ID                         0\n",
       "Area Name                       0\n",
       "Reporting District              0\n",
       "Crime Code                      0\n",
       "Crime Code Description          0\n",
       "MO Codes                   215872\n",
       "Victim Age                      0\n",
       "Victim Sex                 185960\n",
       "Victim Descent             186006\n",
       "Premise Code                   50\n",
       "Premise Description           135\n",
       "Weapon Used Code          1325641\n",
       "Weapon Description        1325642\n",
       "Status Code                     3\n",
       "Status Description              0\n",
       "Crime Code 1                    9\n",
       "Crime Code 2              1863098\n",
       "Crime Code 3              1990024\n",
       "Crime Code 4              1993163\n",
       "Address                         0\n",
       "Cross Street              1659507\n",
       "Location                        0\n",
       "dtype: int64"
      ]
     },
     "execution_count": 7,
     "metadata": {},
     "output_type": "execute_result"
    }
   ],
   "source": [
    "# checking for null values\n",
    "df.isna().sum()"
   ]
  },
  {
   "cell_type": "code",
   "execution_count": 8,
   "metadata": {},
   "outputs": [],
   "source": [
    "# dropping columns with a majority of missing values\n",
    "df = df.drop(axis=1, columns=['MO Codes', \n",
    "                              'Weapon Used Code', \n",
    "                              'Weapon Description', \n",
    "                              'Crime Code 1',\n",
    "                              'Crime Code 2', \n",
    "                              'Crime Code 3', \n",
    "                              'Crime Code 4', \n",
    "                              'Cross Street'])"
   ]
  },
  {
   "cell_type": "code",
   "execution_count": 9,
   "metadata": {},
   "outputs": [],
   "source": [
    "demo_features = ['Victim Age', 'Victim Sex', 'Victim Descent']"
   ]
  },
  {
   "cell_type": "code",
   "execution_count": 10,
   "metadata": {},
   "outputs": [
    {
     "data": {
      "text/plain": [
       "DR Number                      0\n",
       "Date Reported                  0\n",
       "Time Occurred                  0\n",
       "Area ID                        0\n",
       "Area Name                      0\n",
       "Reporting District             0\n",
       "Crime Code                     0\n",
       "Crime Code Description         0\n",
       "Victim Age                     0\n",
       "Victim Sex                185960\n",
       "Victim Descent            186006\n",
       "Premise Code                  50\n",
       "Premise Description          135\n",
       "Status Code                    3\n",
       "Status Description             0\n",
       "Address                        0\n",
       "Location                       0\n",
       "dtype: int64"
      ]
     },
     "execution_count": 10,
     "metadata": {},
     "output_type": "execute_result"
    }
   ],
   "source": [
    "df.isna().sum()"
   ]
  },
  {
   "cell_type": "code",
   "execution_count": null,
   "metadata": {},
   "outputs": [],
   "source": [
    "# now we just have to deal with the remaining null values..."
   ]
  },
  {
   "cell_type": "code",
   "execution_count": 11,
   "metadata": {},
   "outputs": [
    {
     "name": "stdout",
     "output_type": "stream",
     "text": [
      "<class 'pandas.core.frame.DataFrame'>\n",
      "DatetimeIndex: 1993259 entries, 2010-01-01 to 2019-06-22\n",
      "Data columns (total 17 columns):\n",
      "DR Number                 int64\n",
      "Date Reported             object\n",
      "Time Occurred             int64\n",
      "Area ID                   int64\n",
      "Area Name                 object\n",
      "Reporting District        int64\n",
      "Crime Code                int64\n",
      "Crime Code Description    object\n",
      "Victim Age                int64\n",
      "Victim Sex                object\n",
      "Victim Descent            object\n",
      "Premise Code              float64\n",
      "Premise Description       object\n",
      "Status Code               object\n",
      "Status Description        object\n",
      "Address                   object\n",
      "Location                  object\n",
      "dtypes: float64(1), int64(6), object(10)\n",
      "memory usage: 273.7+ MB\n"
     ]
    }
   ],
   "source": [
    "df.info()"
   ]
  },
  {
   "cell_type": "code",
   "execution_count": 12,
   "metadata": {},
   "outputs": [
    {
     "data": {
      "text/html": [
       "<div>\n",
       "<style scoped>\n",
       "    .dataframe tbody tr th:only-of-type {\n",
       "        vertical-align: middle;\n",
       "    }\n",
       "\n",
       "    .dataframe tbody tr th {\n",
       "        vertical-align: top;\n",
       "    }\n",
       "\n",
       "    .dataframe thead th {\n",
       "        text-align: right;\n",
       "    }\n",
       "</style>\n",
       "<table border=\"1\" class=\"dataframe\">\n",
       "  <thead>\n",
       "    <tr style=\"text-align: right;\">\n",
       "      <th></th>\n",
       "      <th>DR Number</th>\n",
       "      <th>Date Reported</th>\n",
       "      <th>Time Occurred</th>\n",
       "      <th>Area ID</th>\n",
       "      <th>Area Name</th>\n",
       "      <th>Reporting District</th>\n",
       "      <th>Crime Code</th>\n",
       "      <th>Crime Code Description</th>\n",
       "      <th>Victim Age</th>\n",
       "      <th>Victim Sex</th>\n",
       "      <th>Victim Descent</th>\n",
       "      <th>Premise Code</th>\n",
       "      <th>Premise Description</th>\n",
       "      <th>Status Code</th>\n",
       "      <th>Status Description</th>\n",
       "      <th>Address</th>\n",
       "      <th>Location</th>\n",
       "    </tr>\n",
       "    <tr>\n",
       "      <th>Date Occurred</th>\n",
       "      <th></th>\n",
       "      <th></th>\n",
       "      <th></th>\n",
       "      <th></th>\n",
       "      <th></th>\n",
       "      <th></th>\n",
       "      <th></th>\n",
       "      <th></th>\n",
       "      <th></th>\n",
       "      <th></th>\n",
       "      <th></th>\n",
       "      <th></th>\n",
       "      <th></th>\n",
       "      <th></th>\n",
       "      <th></th>\n",
       "      <th></th>\n",
       "      <th></th>\n",
       "    </tr>\n",
       "  </thead>\n",
       "  <tbody>\n",
       "    <tr>\n",
       "      <th>2019-01-01</th>\n",
       "      <td>191404135</td>\n",
       "      <td>1022019-01-01</td>\n",
       "      <td>2130</td>\n",
       "      <td>14</td>\n",
       "      <td>Pacific</td>\n",
       "      <td>1469</td>\n",
       "      <td>420</td>\n",
       "      <td>THEFT FROM MOTOR VEHICLE - PETTY ($950 &amp; UNDER)</td>\n",
       "      <td>35</td>\n",
       "      <td>F</td>\n",
       "      <td>B</td>\n",
       "      <td>707.0</td>\n",
       "      <td>GARAGE/CARPORT</td>\n",
       "      <td>IC</td>\n",
       "      <td>Invest Cont</td>\n",
       "      <td>7100    FLIGHT                       AV</td>\n",
       "      <td>{'latitude': '33.9746', 'needs_recoding': Fals...</td>\n",
       "    </tr>\n",
       "    <tr>\n",
       "      <th>2019-01-01</th>\n",
       "      <td>191404070</td>\n",
       "      <td>1022019-01-01</td>\n",
       "      <td>2000</td>\n",
       "      <td>14</td>\n",
       "      <td>Pacific</td>\n",
       "      <td>1446</td>\n",
       "      <td>510</td>\n",
       "      <td>VEHICLE - STOLEN</td>\n",
       "      <td>0</td>\n",
       "      <td>NaN</td>\n",
       "      <td>NaN</td>\n",
       "      <td>101.0</td>\n",
       "      <td>STREET</td>\n",
       "      <td>JA</td>\n",
       "      <td>Juv Arrest</td>\n",
       "      <td>4100    GRAND VIEW                   BL</td>\n",
       "      <td>{'latitude': '33.9989', 'needs_recoding': Fals...</td>\n",
       "    </tr>\n",
       "    <tr>\n",
       "      <th>2019-01-01</th>\n",
       "      <td>191404074</td>\n",
       "      <td>1022019-01-01</td>\n",
       "      <td>2330</td>\n",
       "      <td>14</td>\n",
       "      <td>Pacific</td>\n",
       "      <td>1468</td>\n",
       "      <td>890</td>\n",
       "      <td>FAILURE TO YIELD</td>\n",
       "      <td>0</td>\n",
       "      <td>M</td>\n",
       "      <td>W</td>\n",
       "      <td>101.0</td>\n",
       "      <td>STREET</td>\n",
       "      <td>JA</td>\n",
       "      <td>Juv Arrest</td>\n",
       "      <td>BRADDOCK</td>\n",
       "      <td>{'latitude': '33.9949', 'needs_recoding': Fals...</td>\n",
       "    </tr>\n",
       "    <tr>\n",
       "      <th>2019-01-01</th>\n",
       "      <td>191404075</td>\n",
       "      <td>1022019-01-01</td>\n",
       "      <td>1700</td>\n",
       "      <td>14</td>\n",
       "      <td>Pacific</td>\n",
       "      <td>1455</td>\n",
       "      <td>624</td>\n",
       "      <td>BATTERY - SIMPLE ASSAULT</td>\n",
       "      <td>53</td>\n",
       "      <td>F</td>\n",
       "      <td>H</td>\n",
       "      <td>501.0</td>\n",
       "      <td>SINGLE FAMILY DWELLING</td>\n",
       "      <td>AA</td>\n",
       "      <td>Adult Arrest</td>\n",
       "      <td>4300    KENYON                       AV</td>\n",
       "      <td>{'latitude': '33.9923', 'needs_recoding': Fals...</td>\n",
       "    </tr>\n",
       "    <tr>\n",
       "      <th>2019-01-01</th>\n",
       "      <td>191404078</td>\n",
       "      <td>1022019-01-01</td>\n",
       "      <td>1345</td>\n",
       "      <td>14</td>\n",
       "      <td>Pacific</td>\n",
       "      <td>1469</td>\n",
       "      <td>440</td>\n",
       "      <td>THEFT PLAIN - PETTY ($950 &amp; UNDER)</td>\n",
       "      <td>24</td>\n",
       "      <td>F</td>\n",
       "      <td>B</td>\n",
       "      <td>108.0</td>\n",
       "      <td>PARKING LOT</td>\n",
       "      <td>IC</td>\n",
       "      <td>Invest Cont</td>\n",
       "      <td>6700    LA TIJERA                    BL</td>\n",
       "      <td>{'latitude': '33.9787', 'needs_recoding': Fals...</td>\n",
       "    </tr>\n",
       "    <tr>\n",
       "      <th>...</th>\n",
       "      <td>...</td>\n",
       "      <td>...</td>\n",
       "      <td>...</td>\n",
       "      <td>...</td>\n",
       "      <td>...</td>\n",
       "      <td>...</td>\n",
       "      <td>...</td>\n",
       "      <td>...</td>\n",
       "      <td>...</td>\n",
       "      <td>...</td>\n",
       "      <td>...</td>\n",
       "      <td>...</td>\n",
       "      <td>...</td>\n",
       "      <td>...</td>\n",
       "      <td>...</td>\n",
       "      <td>...</td>\n",
       "      <td>...</td>\n",
       "    </tr>\n",
       "    <tr>\n",
       "      <th>2019-01-02</th>\n",
       "      <td>190104135</td>\n",
       "      <td>1022019-01-01</td>\n",
       "      <td>1800</td>\n",
       "      <td>1</td>\n",
       "      <td>Central</td>\n",
       "      <td>143</td>\n",
       "      <td>440</td>\n",
       "      <td>THEFT PLAIN - PETTY ($950 &amp; UNDER)</td>\n",
       "      <td>20</td>\n",
       "      <td>M</td>\n",
       "      <td>H</td>\n",
       "      <td>203.0</td>\n",
       "      <td>OTHER BUSINESS</td>\n",
       "      <td>IC</td>\n",
       "      <td>Invest Cont</td>\n",
       "      <td>400 S  BROADWAY</td>\n",
       "      <td>{'latitude': '34.0495', 'needs_recoding': Fals...</td>\n",
       "    </tr>\n",
       "    <tr>\n",
       "      <th>2019-01-02</th>\n",
       "      <td>190104122</td>\n",
       "      <td>1022019-01-01</td>\n",
       "      <td>1100</td>\n",
       "      <td>1</td>\n",
       "      <td>Central</td>\n",
       "      <td>157</td>\n",
       "      <td>236</td>\n",
       "      <td>INTIMATE PARTNER - AGGRAVATED ASSAULT</td>\n",
       "      <td>40</td>\n",
       "      <td>F</td>\n",
       "      <td>B</td>\n",
       "      <td>102.0</td>\n",
       "      <td>SIDEWALK</td>\n",
       "      <td>AO</td>\n",
       "      <td>Adult Other</td>\n",
       "      <td>5TH</td>\n",
       "      <td>{'latitude': '34.0426', 'needs_recoding': Fals...</td>\n",
       "    </tr>\n",
       "    <tr>\n",
       "      <th>2019-01-02</th>\n",
       "      <td>190104137</td>\n",
       "      <td>1022019-01-01</td>\n",
       "      <td>1630</td>\n",
       "      <td>1</td>\n",
       "      <td>Central</td>\n",
       "      <td>161</td>\n",
       "      <td>350</td>\n",
       "      <td>THEFT, PERSON</td>\n",
       "      <td>24</td>\n",
       "      <td>M</td>\n",
       "      <td>O</td>\n",
       "      <td>406.0</td>\n",
       "      <td>OTHER STORE</td>\n",
       "      <td>IC</td>\n",
       "      <td>Invest Cont</td>\n",
       "      <td>700 S  FIGUEROA                     ST</td>\n",
       "      <td>{'latitude': '34.0483', 'needs_recoding': Fals...</td>\n",
       "    </tr>\n",
       "    <tr>\n",
       "      <th>2019-01-02</th>\n",
       "      <td>190304135</td>\n",
       "      <td>1022019-01-01</td>\n",
       "      <td>1950</td>\n",
       "      <td>3</td>\n",
       "      <td>Southwest</td>\n",
       "      <td>378</td>\n",
       "      <td>350</td>\n",
       "      <td>THEFT, PERSON</td>\n",
       "      <td>20</td>\n",
       "      <td>M</td>\n",
       "      <td>H</td>\n",
       "      <td>945.0</td>\n",
       "      <td>MTA - EXPO LINE - EXPO/VERMONT</td>\n",
       "      <td>IC</td>\n",
       "      <td>Invest Cont</td>\n",
       "      <td>MARTIN LUTHER KING JR        BL</td>\n",
       "      <td>{'latitude': '34.0109', 'needs_recoding': Fals...</td>\n",
       "    </tr>\n",
       "    <tr>\n",
       "      <th>2019-01-02</th>\n",
       "      <td>190204118</td>\n",
       "      <td>1022019-01-01</td>\n",
       "      <td>1230</td>\n",
       "      <td>2</td>\n",
       "      <td>Rampart</td>\n",
       "      <td>236</td>\n",
       "      <td>230</td>\n",
       "      <td>ASSAULT WITH DEADLY WEAPON, AGGRAVATED ASSAULT</td>\n",
       "      <td>27</td>\n",
       "      <td>M</td>\n",
       "      <td>H</td>\n",
       "      <td>502.0</td>\n",
       "      <td>MULTI-UNIT DWELLING (APARTMENT, DUPLEX, ETC)</td>\n",
       "      <td>AO</td>\n",
       "      <td>Adult Other</td>\n",
       "      <td>100 S  BURLINGTON                   AV</td>\n",
       "      <td>{'latitude': '34.065', 'needs_recoding': False...</td>\n",
       "    </tr>\n",
       "  </tbody>\n",
       "</table>\n",
       "<p>332 rows × 17 columns</p>\n",
       "</div>"
      ],
      "text/plain": [
       "               DR Number  Date Reported  Time Occurred  Area ID  Area Name  \\\n",
       "Date Occurred                                                                \n",
       "2019-01-01     191404135  1022019-01-01           2130       14    Pacific   \n",
       "2019-01-01     191404070  1022019-01-01           2000       14    Pacific   \n",
       "2019-01-01     191404074  1022019-01-01           2330       14    Pacific   \n",
       "2019-01-01     191404075  1022019-01-01           1700       14    Pacific   \n",
       "2019-01-01     191404078  1022019-01-01           1345       14    Pacific   \n",
       "...                  ...            ...            ...      ...        ...   \n",
       "2019-01-02     190104135  1022019-01-01           1800        1    Central   \n",
       "2019-01-02     190104122  1022019-01-01           1100        1    Central   \n",
       "2019-01-02     190104137  1022019-01-01           1630        1    Central   \n",
       "2019-01-02     190304135  1022019-01-01           1950        3  Southwest   \n",
       "2019-01-02     190204118  1022019-01-01           1230        2    Rampart   \n",
       "\n",
       "               Reporting District  Crime Code  \\\n",
       "Date Occurred                                   \n",
       "2019-01-01                   1469         420   \n",
       "2019-01-01                   1446         510   \n",
       "2019-01-01                   1468         890   \n",
       "2019-01-01                   1455         624   \n",
       "2019-01-01                   1469         440   \n",
       "...                           ...         ...   \n",
       "2019-01-02                    143         440   \n",
       "2019-01-02                    157         236   \n",
       "2019-01-02                    161         350   \n",
       "2019-01-02                    378         350   \n",
       "2019-01-02                    236         230   \n",
       "\n",
       "                                        Crime Code Description  Victim Age  \\\n",
       "Date Occurred                                                                \n",
       "2019-01-01     THEFT FROM MOTOR VEHICLE - PETTY ($950 & UNDER)          35   \n",
       "2019-01-01                                    VEHICLE - STOLEN           0   \n",
       "2019-01-01                                    FAILURE TO YIELD           0   \n",
       "2019-01-01                            BATTERY - SIMPLE ASSAULT          53   \n",
       "2019-01-01                  THEFT PLAIN - PETTY ($950 & UNDER)          24   \n",
       "...                                                        ...         ...   \n",
       "2019-01-02                  THEFT PLAIN - PETTY ($950 & UNDER)          20   \n",
       "2019-01-02               INTIMATE PARTNER - AGGRAVATED ASSAULT          40   \n",
       "2019-01-02                                       THEFT, PERSON          24   \n",
       "2019-01-02                                       THEFT, PERSON          20   \n",
       "2019-01-02      ASSAULT WITH DEADLY WEAPON, AGGRAVATED ASSAULT          27   \n",
       "\n",
       "              Victim Sex Victim Descent  Premise Code  \\\n",
       "Date Occurred                                           \n",
       "2019-01-01             F              B         707.0   \n",
       "2019-01-01           NaN            NaN         101.0   \n",
       "2019-01-01             M              W         101.0   \n",
       "2019-01-01             F              H         501.0   \n",
       "2019-01-01             F              B         108.0   \n",
       "...                  ...            ...           ...   \n",
       "2019-01-02             M              H         203.0   \n",
       "2019-01-02             F              B         102.0   \n",
       "2019-01-02             M              O         406.0   \n",
       "2019-01-02             M              H         945.0   \n",
       "2019-01-02             M              H         502.0   \n",
       "\n",
       "                                        Premise Description Status Code  \\\n",
       "Date Occurred                                                             \n",
       "2019-01-01                                   GARAGE/CARPORT          IC   \n",
       "2019-01-01                                           STREET          JA   \n",
       "2019-01-01                                           STREET          JA   \n",
       "2019-01-01                           SINGLE FAMILY DWELLING          AA   \n",
       "2019-01-01                                      PARKING LOT          IC   \n",
       "...                                                     ...         ...   \n",
       "2019-01-02                                   OTHER BUSINESS          IC   \n",
       "2019-01-02                                         SIDEWALK          AO   \n",
       "2019-01-02                                      OTHER STORE          IC   \n",
       "2019-01-02                   MTA - EXPO LINE - EXPO/VERMONT          IC   \n",
       "2019-01-02     MULTI-UNIT DWELLING (APARTMENT, DUPLEX, ETC)          AO   \n",
       "\n",
       "              Status Description                                  Address  \\\n",
       "Date Occurred                                                               \n",
       "2019-01-01           Invest Cont  7100    FLIGHT                       AV   \n",
       "2019-01-01            Juv Arrest  4100    GRAND VIEW                   BL   \n",
       "2019-01-01            Juv Arrest                                 BRADDOCK   \n",
       "2019-01-01          Adult Arrest  4300    KENYON                       AV   \n",
       "2019-01-01           Invest Cont  6700    LA TIJERA                    BL   \n",
       "...                          ...                                      ...   \n",
       "2019-01-02           Invest Cont                          400 S  BROADWAY   \n",
       "2019-01-02           Adult Other                                      5TH   \n",
       "2019-01-02           Invest Cont   700 S  FIGUEROA                     ST   \n",
       "2019-01-02           Invest Cont          MARTIN LUTHER KING JR        BL   \n",
       "2019-01-02           Adult Other   100 S  BURLINGTON                   AV   \n",
       "\n",
       "                                                       Location   \n",
       "Date Occurred                                                     \n",
       "2019-01-01     {'latitude': '33.9746', 'needs_recoding': Fals...  \n",
       "2019-01-01     {'latitude': '33.9989', 'needs_recoding': Fals...  \n",
       "2019-01-01     {'latitude': '33.9949', 'needs_recoding': Fals...  \n",
       "2019-01-01     {'latitude': '33.9923', 'needs_recoding': Fals...  \n",
       "2019-01-01     {'latitude': '33.9787', 'needs_recoding': Fals...  \n",
       "...                                                          ...  \n",
       "2019-01-02     {'latitude': '34.0495', 'needs_recoding': Fals...  \n",
       "2019-01-02     {'latitude': '34.0426', 'needs_recoding': Fals...  \n",
       "2019-01-02     {'latitude': '34.0483', 'needs_recoding': Fals...  \n",
       "2019-01-02     {'latitude': '34.0109', 'needs_recoding': Fals...  \n",
       "2019-01-02     {'latitude': '34.065', 'needs_recoding': False...  \n",
       "\n",
       "[332 rows x 17 columns]"
      ]
     },
     "execution_count": 12,
     "metadata": {},
     "output_type": "execute_result"
    }
   ],
   "source": [
    "# df['Date Reported'] = pd.to_datetime(df['Date Reported'], format= '%Y-%m-%d')\n",
    "df.loc[df['Date Reported'] == '1022019-01-01']"
   ]
  },
  {
   "cell_type": "code",
   "execution_count": 13,
   "metadata": {
    "scrolled": true
   },
   "outputs": [
    {
     "data": {
      "text/plain": [
       "99290"
      ]
     },
     "execution_count": 13,
     "metadata": {},
     "output_type": "execute_result"
    }
   ],
   "source": [
    "# checking for all values that are ***2019-01-01\n",
    "unknown = []\n",
    "for i in range(len(df['Date Reported'])): \n",
    "    if len(df['Date Reported'][i])==13:\n",
    "        unknown.append(df['Date Reported'][i])\n",
    "len(unknown)\n"
   ]
  },
  {
   "cell_type": "code",
   "execution_count": 14,
   "metadata": {},
   "outputs": [],
   "source": [
    "#replacing all ***2019-01-01 with 2019-01-01\n",
    "for i in range(len(df['Date Reported'])): \n",
    "    if len(df['Date Reported'][i])==13:\n",
    "        df['Date Reported'] = '2019-01-01'"
   ]
  },
  {
   "cell_type": "code",
   "execution_count": 15,
   "metadata": {},
   "outputs": [],
   "source": [
    "#converting date reported variable to datetime format\n",
    "df['Date Reported'] = pd.to_datetime(df['Date Reported'], format= '%Y-%m-%d')"
   ]
  },
  {
   "cell_type": "code",
   "execution_count": 16,
   "metadata": {},
   "outputs": [],
   "source": [
    "df['Premise Code'].fillna(0, inplace = True)\n",
    "df['Premise Description'].fillna('UNKNOWN', inplace = True)\n",
    "df['Status Code'].fillna('UNK', inplace = True)"
   ]
  },
  {
   "cell_type": "markdown",
   "metadata": {},
   "source": [
    "# David"
   ]
  },
  {
   "cell_type": "markdown",
   "metadata": {},
   "source": []
  },
  {
   "cell_type": "code",
   "execution_count": 17,
   "metadata": {},
   "outputs": [
    {
     "data": {
      "text/plain": [
       "DR Number                      0\n",
       "Date Reported                  0\n",
       "Time Occurred                  0\n",
       "Area ID                        0\n",
       "Area Name                      0\n",
       "Reporting District             0\n",
       "Crime Code                     0\n",
       "Crime Code Description         0\n",
       "Victim Age                     0\n",
       "Victim Sex                185960\n",
       "Victim Descent            186006\n",
       "Premise Code                   0\n",
       "Premise Description            0\n",
       "Status Code                    0\n",
       "Status Description             0\n",
       "Address                        0\n",
       "Location                       0\n",
       "dtype: int64"
      ]
     },
     "execution_count": 17,
     "metadata": {},
     "output_type": "execute_result"
    }
   ],
   "source": [
    "df.isna().sum()"
   ]
  },
  {
   "cell_type": "code",
   "execution_count": 18,
   "metadata": {},
   "outputs": [
    {
     "data": {
      "text/plain": [
       "M    920405\n",
       "F    840397\n",
       "X     46409\n",
       "H        70\n",
       "N        17\n",
       "-         1\n",
       "Name: Victim Sex, dtype: int64"
      ]
     },
     "execution_count": 18,
     "metadata": {},
     "output_type": "execute_result"
    }
   ],
   "source": [
    "# let's change H, N, and - to X for Unknown/Other\n",
    "df['Victim Sex'].value_counts()"
   ]
  },
  {
   "cell_type": "code",
   "execution_count": 19,
   "metadata": {},
   "outputs": [
    {
     "data": {
      "text/plain": [
       "'{\\'latitude\\': \\'34.1875\\', \\'needs_recoding\\': False, \\'human_address\\': \\'{\"address\":\"\",\"city\":\"\",\"state\":\"\",\"zip\":\"\"}\\', \\'longitude\\': \\'-118.603\\'}'"
      ]
     },
     "execution_count": 19,
     "metadata": {},
     "output_type": "execute_result"
    }
   ],
   "source": [
    "# need to strip whitespace from column name and break out lat/lon data\n",
    "df['Location '][0]"
   ]
  },
  {
   "cell_type": "code",
   "execution_count": 20,
   "metadata": {},
   "outputs": [
    {
     "data": {
      "text/html": [
       "<div>\n",
       "<style scoped>\n",
       "    .dataframe tbody tr th:only-of-type {\n",
       "        vertical-align: middle;\n",
       "    }\n",
       "\n",
       "    .dataframe tbody tr th {\n",
       "        vertical-align: top;\n",
       "    }\n",
       "\n",
       "    .dataframe thead th {\n",
       "        text-align: right;\n",
       "    }\n",
       "</style>\n",
       "<table border=\"1\" class=\"dataframe\">\n",
       "  <thead>\n",
       "    <tr style=\"text-align: right;\">\n",
       "      <th></th>\n",
       "      <th>DR Number</th>\n",
       "      <th>Date Reported</th>\n",
       "      <th>Time Occurred</th>\n",
       "      <th>Area ID</th>\n",
       "      <th>Area Name</th>\n",
       "      <th>Reporting District</th>\n",
       "      <th>Crime Code</th>\n",
       "      <th>Crime Code Description</th>\n",
       "      <th>Victim Age</th>\n",
       "      <th>Victim Sex</th>\n",
       "      <th>Victim Descent</th>\n",
       "      <th>Premise Code</th>\n",
       "      <th>Premise Description</th>\n",
       "      <th>Status Code</th>\n",
       "      <th>Status Description</th>\n",
       "      <th>Address</th>\n",
       "      <th>Location</th>\n",
       "    </tr>\n",
       "    <tr>\n",
       "      <th>Date Occurred</th>\n",
       "      <th></th>\n",
       "      <th></th>\n",
       "      <th></th>\n",
       "      <th></th>\n",
       "      <th></th>\n",
       "      <th></th>\n",
       "      <th></th>\n",
       "      <th></th>\n",
       "      <th></th>\n",
       "      <th></th>\n",
       "      <th></th>\n",
       "      <th></th>\n",
       "      <th></th>\n",
       "      <th></th>\n",
       "      <th></th>\n",
       "      <th></th>\n",
       "      <th></th>\n",
       "    </tr>\n",
       "  </thead>\n",
       "  <tbody>\n",
       "    <tr>\n",
       "      <th>2010-01-01</th>\n",
       "      <td>102120693</td>\n",
       "      <td>2019-01-01</td>\n",
       "      <td>1117</td>\n",
       "      <td>21</td>\n",
       "      <td>Topanga</td>\n",
       "      <td>2156</td>\n",
       "      <td>354</td>\n",
       "      <td>THEFT OF IDENTITY</td>\n",
       "      <td>21</td>\n",
       "      <td>M</td>\n",
       "      <td>H</td>\n",
       "      <td>404.0</td>\n",
       "      <td>DEPARTMENT STORE</td>\n",
       "      <td>IC</td>\n",
       "      <td>Invest Cont</td>\n",
       "      <td>21800    VICTORY                      BL</td>\n",
       "      <td>{'latitude': '34.1875', 'needs_recoding': Fals...</td>\n",
       "    </tr>\n",
       "    <tr>\n",
       "      <th>2010-01-01</th>\n",
       "      <td>100504041</td>\n",
       "      <td>2019-01-01</td>\n",
       "      <td>2130</td>\n",
       "      <td>5</td>\n",
       "      <td>Harbor</td>\n",
       "      <td>563</td>\n",
       "      <td>420</td>\n",
       "      <td>THEFT FROM MOTOR VEHICLE - PETTY ($950 &amp; UNDER)</td>\n",
       "      <td>0</td>\n",
       "      <td>NaN</td>\n",
       "      <td>NaN</td>\n",
       "      <td>104.0</td>\n",
       "      <td>DRIVEWAY</td>\n",
       "      <td>IC</td>\n",
       "      <td>Invest Cont</td>\n",
       "      <td>900 W  8TH                          ST</td>\n",
       "      <td>{'latitude': '33.737', 'needs_recoding': False...</td>\n",
       "    </tr>\n",
       "  </tbody>\n",
       "</table>\n",
       "</div>"
      ],
      "text/plain": [
       "               DR Number Date Reported  Time Occurred  Area ID Area Name  \\\n",
       "Date Occurred                                                              \n",
       "2010-01-01     102120693    2019-01-01           1117       21   Topanga   \n",
       "2010-01-01     100504041    2019-01-01           2130        5    Harbor   \n",
       "\n",
       "               Reporting District  Crime Code  \\\n",
       "Date Occurred                                   \n",
       "2010-01-01                   2156         354   \n",
       "2010-01-01                    563         420   \n",
       "\n",
       "                                        Crime Code Description  Victim Age  \\\n",
       "Date Occurred                                                                \n",
       "2010-01-01                                   THEFT OF IDENTITY          21   \n",
       "2010-01-01     THEFT FROM MOTOR VEHICLE - PETTY ($950 & UNDER)           0   \n",
       "\n",
       "              Victim Sex Victim Descent  Premise Code Premise Description  \\\n",
       "Date Occurred                                                               \n",
       "2010-01-01             M              H         404.0    DEPARTMENT STORE   \n",
       "2010-01-01           NaN            NaN         104.0            DRIVEWAY   \n",
       "\n",
       "              Status Code Status Description  \\\n",
       "Date Occurred                                  \n",
       "2010-01-01             IC        Invest Cont   \n",
       "2010-01-01             IC        Invest Cont   \n",
       "\n",
       "                                                Address  \\\n",
       "Date Occurred                                             \n",
       "2010-01-01     21800    VICTORY                      BL   \n",
       "2010-01-01       900 W  8TH                          ST   \n",
       "\n",
       "                                                       Location   \n",
       "Date Occurred                                                     \n",
       "2010-01-01     {'latitude': '34.1875', 'needs_recoding': Fals...  \n",
       "2010-01-01     {'latitude': '33.737', 'needs_recoding': False...  "
      ]
     },
     "execution_count": 20,
     "metadata": {},
     "output_type": "execute_result"
    }
   ],
   "source": [
    "df.head(2)"
   ]
  },
  {
   "cell_type": "code",
   "execution_count": 36,
   "metadata": {},
   "outputs": [],
   "source": [
    "df['data_points'] = df.index.value_counts()"
   ]
  },
  {
   "cell_type": "code",
   "execution_count": 37,
   "metadata": {},
   "outputs": [],
   "source": [
    "crime_series = df['data_points']"
   ]
  },
  {
   "cell_type": "code",
   "execution_count": 38,
   "metadata": {},
   "outputs": [
    {
     "data": {
      "text/plain": [
       "dtype('int64')"
      ]
     },
     "execution_count": 38,
     "metadata": {},
     "output_type": "execute_result"
    }
   ],
   "source": [
    "crime_series.dtype"
   ]
  },
  {
   "cell_type": "code",
   "execution_count": 26,
   "metadata": {},
   "outputs": [],
   "source": [
    "def plot_series(series):\n",
    "    plt.figure(figsize=(12,6))\n",
    "    plt.plot(crime_series)\n",
    "    plt.ylabel('Crimes per day in LA', fontsize=15)\n",
    "    \n",
    "    for year in range(2010,2021):\n",
    "        plt.axvline(datetime(year,1,1), linestyle='--', alpha=0.5)"
   ]
  },
  {
   "cell_type": "code",
   "execution_count": 40,
   "metadata": {},
   "outputs": [
    {
     "data": {
      "image/png": "[encoded data removed]",
      "text/plain": [
       "<Figure size 864x432 with 1 Axes>"
      ]
     },
     "metadata": {
      "needs_background": "light"
     },
     "output_type": "display_data"
    }
   ],
   "source": [
    "plt.figure(figsize=(12,6))\n",
    "plt.plot(crime_series);"
   ]
  },
  {
   "cell_type": "code",
   "execution_count": 41,
   "metadata": {},
   "outputs": [],
   "source": [
    "# plot_series(crime_series)"
   ]
  },
  {
   "cell_type": "code",
   "execution_count": null,
   "metadata": {},
   "outputs": [],
   "source": []
  },
  {
   "cell_type": "code",
   "execution_count": null,
   "metadata": {},
   "outputs": [],
   "source": []
  },
  {
   "cell_type": "markdown",
   "metadata": {},
   "source": [
    "# Normalize Data"
   ]
  },
  {
   "cell_type": "code",
   "execution_count": 42,
   "metadata": {},
   "outputs": [],
   "source": [
    "mean, std = crime_series.mean(), crime_series.std()"
   ]
  },
  {
   "cell_type": "code",
   "execution_count": 43,
   "metadata": {},
   "outputs": [],
   "source": [
    "crime_series = (crime_series - mean) / std"
   ]
  },
  {
   "cell_type": "code",
   "execution_count": 44,
   "metadata": {},
   "outputs": [
    {
     "data": {
      "image/png": "[encoded data removed]",
      "text/plain": [
       "<Figure size 864x432 with 1 Axes>"
      ]
     },
     "metadata": {
      "needs_background": "light"
     },
     "output_type": "display_data"
    }
   ],
   "source": [
    "plt.figure(figsize=(12,6))\n",
    "plt.plot(crime_series);"
   ]
  },
  {
   "cell_type": "markdown",
   "metadata": {},
   "source": [
    "# Differencing"
   ]
  },
  {
   "cell_type": "code",
   "execution_count": 45,
   "metadata": {},
   "outputs": [],
   "source": [
    "crime_series = crime_series.diff()"
   ]
  },
  {
   "cell_type": "code",
   "execution_count": 46,
   "metadata": {},
   "outputs": [
    {
     "data": {
      "image/png": "[encoded data removed]",
      "text/plain": [
       "<Figure size 864x432 with 1 Axes>"
      ]
     },
     "metadata": {
      "needs_background": "light"
     },
     "output_type": "display_data"
    }
   ],
   "source": [
    "plt.figure(figsize=(12,6))\n",
    "plt.plot(crime_series);"
   ]
  },
  {
   "cell_type": "code",
   "execution_count": 48,
   "metadata": {},
   "outputs": [
    {
     "data": {
      "text/plain": [
       "Date Occurred\n",
       "2019-06-22    0.0\n",
       "2019-06-22    0.0\n",
       "2019-06-22    0.0\n",
       "2019-06-22    0.0\n",
       "2019-06-22    0.0\n",
       "Name: data_points, dtype: float64"
      ]
     },
     "execution_count": 48,
     "metadata": {},
     "output_type": "execute_result"
    }
   ],
   "source": [
    "crime_series.tail()"
   ]
  },
  {
   "cell_type": "markdown",
   "metadata": {},
   "source": [
    "# Reduce Volatility"
   ]
  },
  {
   "cell_type": "code",
   "execution_count": 49,
   "metadata": {},
   "outputs": [],
   "source": [
    "annual_volatility = crime_series.groupby(crime_series.index.year).std()"
   ]
  },
  {
   "cell_type": "code",
   "execution_count": 50,
   "metadata": {},
   "outputs": [
    {
     "data": {
      "text/plain": [
       "Date Occurred\n",
       "2010    0.042944\n",
       "2011    0.052487\n",
       "2012    0.044328\n",
       "2013    0.041359\n",
       "2014    0.038123\n",
       "2015    0.035153\n",
       "2016    0.031709\n",
       "2017    0.029022\n",
       "2018    0.024092\n",
       "2019    0.018811\n",
       "Name: data_points, dtype: float64"
      ]
     },
     "execution_count": 50,
     "metadata": {},
     "output_type": "execute_result"
    }
   ],
   "source": [
    "annual_volatility"
   ]
  },
  {
   "cell_type": "code",
   "execution_count": null,
   "metadata": {},
   "outputs": [],
   "source": []
  },
  {
   "cell_type": "markdown",
   "metadata": {},
   "source": [
    "# Reevaluate with Dickey Fuller Test"
   ]
  },
  {
   "cell_type": "code",
   "execution_count": null,
   "metadata": {},
   "outputs": [],
   "source": []
  },
  {
   "cell_type": "markdown",
   "metadata": {},
   "source": [
    "## EDA"
   ]
  },
  {
   "cell_type": "markdown",
   "metadata": {},
   "source": [
    "Essentially the variables can be grouped to \n",
    "* When the crime occurred - given by date and time\n",
    "* When the crime was reported - Date\n",
    "* what was the crime - crime code and crime description\n",
    "* Who was the victim - Victim sex, age and descent\n",
    "* What weapon was involved - weapon code and description\n",
    "* Where the crime took place - given by location, address, cross street, premise code and description"
   ]
  },
  {
   "cell_type": "code",
   "execution_count": 52,
   "metadata": {},
   "outputs": [
    {
     "data": {
      "text/plain": [
       "Date Occurred\n",
       "2010-01-01    2222\n",
       "2010-01-01    2222\n",
       "2010-01-01    2222\n",
       "2010-01-01    2222\n",
       "2010-01-01    2222\n",
       "              ... \n",
       "2017-12-31     560\n",
       "2017-12-31     560\n",
       "2017-12-31     560\n",
       "2017-12-31     560\n",
       "2017-12-31     560\n",
       "Name: data_points, Length: 1667060, dtype: int64"
      ]
     },
     "execution_count": 52,
     "metadata": {},
     "output_type": "execute_result"
    }
   ],
   "source": [
    "df.data_points['2010-01-01':'2017-12-31']"
   ]
  },
  {
   "cell_type": "code",
   "execution_count": 55,
   "metadata": {},
   "outputs": [
    {
     "data": {
      "text/html": [
       "<div>\n",
       "<style scoped>\n",
       "    .dataframe tbody tr th:only-of-type {\n",
       "        vertical-align: middle;\n",
       "    }\n",
       "\n",
       "    .dataframe tbody tr th {\n",
       "        vertical-align: top;\n",
       "    }\n",
       "\n",
       "    .dataframe thead th {\n",
       "        text-align: right;\n",
       "    }\n",
       "</style>\n",
       "<table border=\"1\" class=\"dataframe\">\n",
       "  <thead>\n",
       "    <tr style=\"text-align: right;\">\n",
       "      <th></th>\n",
       "      <th>DR Number</th>\n",
       "      <th>Time Occurred</th>\n",
       "      <th>Area ID</th>\n",
       "      <th>Reporting District</th>\n",
       "      <th>Crime Code</th>\n",
       "      <th>Victim Age</th>\n",
       "      <th>Premise Code</th>\n",
       "      <th>data_points</th>\n",
       "    </tr>\n",
       "    <tr>\n",
       "      <th>Date Occurred</th>\n",
       "      <th></th>\n",
       "      <th></th>\n",
       "      <th></th>\n",
       "      <th></th>\n",
       "      <th></th>\n",
       "      <th></th>\n",
       "      <th></th>\n",
       "      <th></th>\n",
       "    </tr>\n",
       "  </thead>\n",
       "  <tbody>\n",
       "    <tr>\n",
       "      <th>2010-01-01</th>\n",
       "      <td>266214359557</td>\n",
       "      <td>1978540</td>\n",
       "      <td>25427</td>\n",
       "      <td>2640231</td>\n",
       "      <td>1068797</td>\n",
       "      <td>75442</td>\n",
       "      <td>963376.0</td>\n",
       "      <td>4937284</td>\n",
       "    </tr>\n",
       "    <tr>\n",
       "      <th>2010-01-02</th>\n",
       "      <td>54274335744</td>\n",
       "      <td>773206</td>\n",
       "      <td>6220</td>\n",
       "      <td>646607</td>\n",
       "      <td>275232</td>\n",
       "      <td>16452</td>\n",
       "      <td>160736.0</td>\n",
       "      <td>284089</td>\n",
       "    </tr>\n",
       "    <tr>\n",
       "      <th>2010-01-03</th>\n",
       "      <td>54703411393</td>\n",
       "      <td>744726</td>\n",
       "      <td>6411</td>\n",
       "      <td>665479</td>\n",
       "      <td>280654</td>\n",
       "      <td>16523</td>\n",
       "      <td>152894.0</td>\n",
       "      <td>290521</td>\n",
       "    </tr>\n",
       "    <tr>\n",
       "      <th>2010-01-04</th>\n",
       "      <td>56643083626</td>\n",
       "      <td>754482</td>\n",
       "      <td>6305</td>\n",
       "      <td>656128</td>\n",
       "      <td>277653</td>\n",
       "      <td>17820</td>\n",
       "      <td>170728.0</td>\n",
       "      <td>311364</td>\n",
       "    </tr>\n",
       "    <tr>\n",
       "      <th>2010-01-05</th>\n",
       "      <td>55572622072</td>\n",
       "      <td>739385</td>\n",
       "      <td>6200</td>\n",
       "      <td>644861</td>\n",
       "      <td>280775</td>\n",
       "      <td>17454</td>\n",
       "      <td>173819.0</td>\n",
       "      <td>299209</td>\n",
       "    </tr>\n",
       "    <tr>\n",
       "      <th>...</th>\n",
       "      <td>...</td>\n",
       "      <td>...</td>\n",
       "      <td>...</td>\n",
       "      <td>...</td>\n",
       "      <td>...</td>\n",
       "      <td>...</td>\n",
       "      <td>...</td>\n",
       "      <td>...</td>\n",
       "    </tr>\n",
       "    <tr>\n",
       "      <th>2019-06-18</th>\n",
       "      <td>94957003496</td>\n",
       "      <td>686390</td>\n",
       "      <td>5205</td>\n",
       "      <td>544130</td>\n",
       "      <td>245549</td>\n",
       "      <td>16057</td>\n",
       "      <td>140036.0</td>\n",
       "      <td>247009</td>\n",
       "    </tr>\n",
       "    <tr>\n",
       "      <th>2019-06-19</th>\n",
       "      <td>102014091880</td>\n",
       "      <td>722610</td>\n",
       "      <td>5480</td>\n",
       "      <td>572139</td>\n",
       "      <td>277788</td>\n",
       "      <td>16610</td>\n",
       "      <td>163086.0</td>\n",
       "      <td>285156</td>\n",
       "    </tr>\n",
       "    <tr>\n",
       "      <th>2019-06-20</th>\n",
       "      <td>87691467665</td>\n",
       "      <td>625970</td>\n",
       "      <td>4754</td>\n",
       "      <td>496257</td>\n",
       "      <td>228484</td>\n",
       "      <td>14451</td>\n",
       "      <td>128829.0</td>\n",
       "      <td>210681</td>\n",
       "    </tr>\n",
       "    <tr>\n",
       "      <th>2019-06-21</th>\n",
       "      <td>96481936071</td>\n",
       "      <td>701995</td>\n",
       "      <td>5260</td>\n",
       "      <td>549581</td>\n",
       "      <td>249983</td>\n",
       "      <td>16084</td>\n",
       "      <td>144762.0</td>\n",
       "      <td>255025</td>\n",
       "    </tr>\n",
       "    <tr>\n",
       "      <th>2019-06-22</th>\n",
       "      <td>95147625121</td>\n",
       "      <td>656200</td>\n",
       "      <td>5211</td>\n",
       "      <td>544325</td>\n",
       "      <td>254234</td>\n",
       "      <td>15694</td>\n",
       "      <td>136954.0</td>\n",
       "      <td>248004</td>\n",
       "    </tr>\n",
       "  </tbody>\n",
       "</table>\n",
       "<p>3460 rows × 8 columns</p>\n",
       "</div>"
      ],
      "text/plain": [
       "                  DR Number  Time Occurred  Area ID  Reporting District  \\\n",
       "Date Occurred                                                             \n",
       "2010-01-01     266214359557        1978540    25427             2640231   \n",
       "2010-01-02      54274335744         773206     6220              646607   \n",
       "2010-01-03      54703411393         744726     6411              665479   \n",
       "2010-01-04      56643083626         754482     6305              656128   \n",
       "2010-01-05      55572622072         739385     6200              644861   \n",
       "...                     ...            ...      ...                 ...   \n",
       "2019-06-18      94957003496         686390     5205              544130   \n",
       "2019-06-19     102014091880         722610     5480              572139   \n",
       "2019-06-20      87691467665         625970     4754              496257   \n",
       "2019-06-21      96481936071         701995     5260              549581   \n",
       "2019-06-22      95147625121         656200     5211              544325   \n",
       "\n",
       "               Crime Code  Victim Age  Premise Code  data_points  \n",
       "Date Occurred                                                     \n",
       "2010-01-01        1068797       75442      963376.0      4937284  \n",
       "2010-01-02         275232       16452      160736.0       284089  \n",
       "2010-01-03         280654       16523      152894.0       290521  \n",
       "2010-01-04         277653       17820      170728.0       311364  \n",
       "2010-01-05         280775       17454      173819.0       299209  \n",
       "...                   ...         ...           ...          ...  \n",
       "2019-06-18         245549       16057      140036.0       247009  \n",
       "2019-06-19         277788       16610      163086.0       285156  \n",
       "2019-06-20         228484       14451      128829.0       210681  \n",
       "2019-06-21         249983       16084      144762.0       255025  \n",
       "2019-06-22         254234       15694      136954.0       248004  \n",
       "\n",
       "[3460 rows x 8 columns]"
      ]
     },
     "execution_count": 55,
     "metadata": {},
     "output_type": "execute_result"
    }
   ],
   "source": [
    "df.groupby('Date Occurred').sum()"
   ]
  },
  {
   "cell_type": "code",
   "execution_count": null,
   "metadata": {},
   "outputs": [],
   "source": []
  }
 ],
 "metadata": {
  "kernelspec": {
   "display_name": "Python 3",
   "language": "python",
   "name": "python3"
  },
  "language_info": {
   "codemirror_mode": {
    "name": "ipython",
    "version": 3
   },
   "file_extension": ".py",
   "mimetype": "text/x-python",
   "name": "python",
   "nbconvert_exporter": "python",
   "pygments_lexer": "ipython3",
   "version": "3.6.9"
  }
 },
 "nbformat": 4,
 "nbformat_minor": 2
}
