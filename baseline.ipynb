{
 "cells": [
  {
   "cell_type": "code",
   "execution_count": 19,
   "metadata": {},
   "outputs": [],
   "source": [
    "import numpy as np\n",
    "import pandas as pd\n",
    "pd.options.display.max_columns = 50\n",
    "import matplotlib.pyplot as plt\n",
    "%matplotlib inline\n",
    "plt.style.use('bmh')\n",
    "import seaborn as sns\n",
    "import statsmodels\n",
    "from statsmodels.graphics.tsaplots import plot_acf\n",
    "from statsmodels.graphics.tsaplots import plot_pacf\n",
    "from statsmodels.tsa.ar_model import AutoReg, ar_select_order\n",
    "from statsmodels.tsa.arima_model import ARIMA\n",
    "import statsmodels.api as sm\n",
    "from sklearn import metrics\n",
    "from sklearn.metrics import mean_squared_error"
   ]
  },
  {
   "cell_type": "markdown",
   "metadata": {},
   "source": [
    "### loading in original `.csv` file and converting it a datetime df with `crime_count` column"
   ]
  },
  {
   "cell_type": "code",
   "execution_count": 2,
   "metadata": {},
   "outputs": [
    {
     "data": {
      "text/html": [
       "<div>\n",
       "<style scoped>\n",
       "    .dataframe tbody tr th:only-of-type {\n",
       "        vertical-align: middle;\n",
       "    }\n",
       "\n",
       "    .dataframe tbody tr th {\n",
       "        vertical-align: top;\n",
       "    }\n",
       "\n",
       "    .dataframe thead th {\n",
       "        text-align: right;\n",
       "    }\n",
       "</style>\n",
       "<table border=\"1\" class=\"dataframe\">\n",
       "  <thead>\n",
       "    <tr style=\"text-align: right;\">\n",
       "      <th></th>\n",
       "      <th>DR Number</th>\n",
       "      <th>Date Reported</th>\n",
       "      <th>Date Occurred</th>\n",
       "      <th>Time Occurred</th>\n",
       "      <th>Area ID</th>\n",
       "      <th>Area Name</th>\n",
       "      <th>Reporting District</th>\n",
       "      <th>Crime Code</th>\n",
       "      <th>Crime Code Description</th>\n",
       "      <th>MO Codes</th>\n",
       "      <th>Victim Age</th>\n",
       "      <th>Victim Sex</th>\n",
       "      <th>Victim Descent</th>\n",
       "      <th>Premise Code</th>\n",
       "      <th>Premise Description</th>\n",
       "      <th>Weapon Used Code</th>\n",
       "      <th>Weapon Description</th>\n",
       "      <th>Status Code</th>\n",
       "      <th>Status Description</th>\n",
       "      <th>Crime Code 1</th>\n",
       "      <th>Crime Code 2</th>\n",
       "      <th>Crime Code 3</th>\n",
       "      <th>Crime Code 4</th>\n",
       "      <th>Address</th>\n",
       "      <th>Cross Street</th>\n",
       "      <th>Location</th>\n",
       "    </tr>\n",
       "  </thead>\n",
       "  <tbody>\n",
       "    <tr>\n",
       "      <th>0</th>\n",
       "      <td>102005556</td>\n",
       "      <td>2010-01-25T00:00:00</td>\n",
       "      <td>2010-01-22T00:00:00</td>\n",
       "      <td>2300</td>\n",
       "      <td>20</td>\n",
       "      <td>Olympic</td>\n",
       "      <td>2071</td>\n",
       "      <td>510</td>\n",
       "      <td>VEHICLE - STOLEN</td>\n",
       "      <td>NaN</td>\n",
       "      <td>0</td>\n",
       "      <td>NaN</td>\n",
       "      <td>NaN</td>\n",
       "      <td>101.0</td>\n",
       "      <td>STREET</td>\n",
       "      <td>NaN</td>\n",
       "      <td>NaN</td>\n",
       "      <td>IC</td>\n",
       "      <td>Invest Cont</td>\n",
       "      <td>510.0</td>\n",
       "      <td>NaN</td>\n",
       "      <td>NaN</td>\n",
       "      <td>NaN</td>\n",
       "      <td>VAN NESS</td>\n",
       "      <td>15TH</td>\n",
       "      <td>{'latitude': '34.0454', 'needs_recoding': Fals...</td>\n",
       "    </tr>\n",
       "    <tr>\n",
       "      <th>1</th>\n",
       "      <td>101822289</td>\n",
       "      <td>2010-11-11T00:00:00</td>\n",
       "      <td>2010-11-10T00:00:00</td>\n",
       "      <td>1800</td>\n",
       "      <td>18</td>\n",
       "      <td>Southeast</td>\n",
       "      <td>1803</td>\n",
       "      <td>510</td>\n",
       "      <td>VEHICLE - STOLEN</td>\n",
       "      <td>NaN</td>\n",
       "      <td>0</td>\n",
       "      <td>NaN</td>\n",
       "      <td>NaN</td>\n",
       "      <td>101.0</td>\n",
       "      <td>STREET</td>\n",
       "      <td>NaN</td>\n",
       "      <td>NaN</td>\n",
       "      <td>IC</td>\n",
       "      <td>Invest Cont</td>\n",
       "      <td>510.0</td>\n",
       "      <td>NaN</td>\n",
       "      <td>NaN</td>\n",
       "      <td>NaN</td>\n",
       "      <td>88TH</td>\n",
       "      <td>WALL</td>\n",
       "      <td>{'latitude': '33.9572', 'needs_recoding': Fals...</td>\n",
       "    </tr>\n",
       "    <tr>\n",
       "      <th>2</th>\n",
       "      <td>101105609</td>\n",
       "      <td>2010-01-28T00:00:00</td>\n",
       "      <td>2010-01-27T00:00:00</td>\n",
       "      <td>2230</td>\n",
       "      <td>11</td>\n",
       "      <td>Northeast</td>\n",
       "      <td>1125</td>\n",
       "      <td>510</td>\n",
       "      <td>VEHICLE - STOLEN</td>\n",
       "      <td>NaN</td>\n",
       "      <td>0</td>\n",
       "      <td>NaN</td>\n",
       "      <td>NaN</td>\n",
       "      <td>108.0</td>\n",
       "      <td>PARKING LOT</td>\n",
       "      <td>NaN</td>\n",
       "      <td>NaN</td>\n",
       "      <td>IC</td>\n",
       "      <td>Invest Cont</td>\n",
       "      <td>510.0</td>\n",
       "      <td>NaN</td>\n",
       "      <td>NaN</td>\n",
       "      <td>NaN</td>\n",
       "      <td>YORK</td>\n",
       "      <td>AVENUE 51</td>\n",
       "      <td>{'latitude': '34.1211', 'needs_recoding': Fals...</td>\n",
       "    </tr>\n",
       "  </tbody>\n",
       "</table>\n",
       "</div>"
      ],
      "text/plain": [
       "   DR Number        Date Reported        Date Occurred  Time Occurred  \\\n",
       "0  102005556  2010-01-25T00:00:00  2010-01-22T00:00:00           2300   \n",
       "1  101822289  2010-11-11T00:00:00  2010-11-10T00:00:00           1800   \n",
       "2  101105609  2010-01-28T00:00:00  2010-01-27T00:00:00           2230   \n",
       "\n",
       "   Area ID  Area Name  Reporting District  Crime Code Crime Code Description  \\\n",
       "0       20    Olympic                2071         510       VEHICLE - STOLEN   \n",
       "1       18  Southeast                1803         510       VEHICLE - STOLEN   \n",
       "2       11  Northeast                1125         510       VEHICLE - STOLEN   \n",
       "\n",
       "  MO Codes  Victim Age Victim Sex Victim Descent  Premise Code  \\\n",
       "0      NaN           0        NaN            NaN         101.0   \n",
       "1      NaN           0        NaN            NaN         101.0   \n",
       "2      NaN           0        NaN            NaN         108.0   \n",
       "\n",
       "  Premise Description  Weapon Used Code Weapon Description Status Code  \\\n",
       "0              STREET               NaN                NaN          IC   \n",
       "1              STREET               NaN                NaN          IC   \n",
       "2         PARKING LOT               NaN                NaN          IC   \n",
       "\n",
       "  Status Description  Crime Code 1  Crime Code 2  Crime Code 3  Crime Code 4  \\\n",
       "0        Invest Cont         510.0           NaN           NaN           NaN   \n",
       "1        Invest Cont         510.0           NaN           NaN           NaN   \n",
       "2        Invest Cont         510.0           NaN           NaN           NaN   \n",
       "\n",
       "    Address Cross Street                                          Location   \n",
       "0  VAN NESS         15TH  {'latitude': '34.0454', 'needs_recoding': Fals...  \n",
       "1      88TH         WALL  {'latitude': '33.9572', 'needs_recoding': Fals...  \n",
       "2      YORK    AVENUE 51  {'latitude': '34.1211', 'needs_recoding': Fals...  "
      ]
     },
     "execution_count": 2,
     "metadata": {},
     "output_type": "execute_result"
    }
   ],
   "source": [
    "df = pd.read_csv('data/extracted/crime-data-from-2010-to-present.csv')\n",
    "df.head(3)"
   ]
  },
  {
   "cell_type": "code",
   "execution_count": 3,
   "metadata": {},
   "outputs": [],
   "source": [
    "# cleaning time columns\n",
    "df[\"Date Occurred\"] = df[\"Date Occurred\"].str.replace('T00:00:00', '')\n",
    "df[\"Date Reported\"] = df[\"Date Occurred\"].str.replace('T00:00:00', '')\n",
    "# converting them to time series\n",
    "df['Date Occurred'] = pd.to_datetime(df['Date Occurred'], format= '%Y-%m-%d')\n",
    "df['Date Reported'] = pd.to_datetime(df['Date Occurred'], format= '%Y-%m-%d')"
   ]
  },
  {
   "cell_type": "code",
   "execution_count": 4,
   "metadata": {},
   "outputs": [],
   "source": [
    "# creating new df\n",
    "time_df = df.groupby('Date Occurred').size().reset_index()\n",
    "time_df = time_df.set_index('Date Occurred')\n",
    "time_df = time_df.rename({0: 'crime_count'}, axis='columns')"
   ]
  },
  {
   "cell_type": "code",
   "execution_count": 5,
   "metadata": {},
   "outputs": [
    {
     "data": {
      "text/html": [
       "<div>\n",
       "<style scoped>\n",
       "    .dataframe tbody tr th:only-of-type {\n",
       "        vertical-align: middle;\n",
       "    }\n",
       "\n",
       "    .dataframe tbody tr th {\n",
       "        vertical-align: top;\n",
       "    }\n",
       "\n",
       "    .dataframe thead th {\n",
       "        text-align: right;\n",
       "    }\n",
       "</style>\n",
       "<table border=\"1\" class=\"dataframe\">\n",
       "  <thead>\n",
       "    <tr style=\"text-align: right;\">\n",
       "      <th></th>\n",
       "      <th>crime_count</th>\n",
       "    </tr>\n",
       "    <tr>\n",
       "      <th>Date Occurred</th>\n",
       "      <th></th>\n",
       "    </tr>\n",
       "  </thead>\n",
       "  <tbody>\n",
       "    <tr>\n",
       "      <th>2010-01-01</th>\n",
       "      <td>2222</td>\n",
       "    </tr>\n",
       "    <tr>\n",
       "      <th>2010-01-02</th>\n",
       "      <td>533</td>\n",
       "    </tr>\n",
       "    <tr>\n",
       "      <th>2010-01-03</th>\n",
       "      <td>539</td>\n",
       "    </tr>\n",
       "    <tr>\n",
       "      <th>2010-01-04</th>\n",
       "      <td>558</td>\n",
       "    </tr>\n",
       "    <tr>\n",
       "      <th>2010-01-05</th>\n",
       "      <td>547</td>\n",
       "    </tr>\n",
       "  </tbody>\n",
       "</table>\n",
       "</div>"
      ],
      "text/plain": [
       "               crime_count\n",
       "Date Occurred             \n",
       "2010-01-01            2222\n",
       "2010-01-02             533\n",
       "2010-01-03             539\n",
       "2010-01-04             558\n",
       "2010-01-05             547"
      ]
     },
     "execution_count": 5,
     "metadata": {},
     "output_type": "execute_result"
    }
   ],
   "source": [
    "time_df.head()"
   ]
  },
  {
   "cell_type": "markdown",
   "metadata": {},
   "source": [
    "## Log Transforming the Unstationary Data\n",
    "\n",
    "For dealing with stationary data, refer to `timeseries_graphs.ipynb`."
   ]
  },
  {
   "cell_type": "code",
   "execution_count": 6,
   "metadata": {},
   "outputs": [],
   "source": [
    "index = time_df.index\n",
    "log_data = pd.Series(np.log(time_df['crime_count']), index=index)"
   ]
  },
  {
   "cell_type": "code",
   "execution_count": 7,
   "metadata": {},
   "outputs": [],
   "source": [
    "# converting it to a dataframe\n",
    "log_data = log_data.to_frame()"
   ]
  },
  {
   "cell_type": "code",
   "execution_count": 8,
   "metadata": {},
   "outputs": [
    {
     "data": {
      "text/html": [
       "<div>\n",
       "<style scoped>\n",
       "    .dataframe tbody tr th:only-of-type {\n",
       "        vertical-align: middle;\n",
       "    }\n",
       "\n",
       "    .dataframe tbody tr th {\n",
       "        vertical-align: top;\n",
       "    }\n",
       "\n",
       "    .dataframe thead th {\n",
       "        text-align: right;\n",
       "    }\n",
       "</style>\n",
       "<table border=\"1\" class=\"dataframe\">\n",
       "  <thead>\n",
       "    <tr style=\"text-align: right;\">\n",
       "      <th></th>\n",
       "      <th>crime_count</th>\n",
       "    </tr>\n",
       "    <tr>\n",
       "      <th>Date Occurred</th>\n",
       "      <th></th>\n",
       "    </tr>\n",
       "  </thead>\n",
       "  <tbody>\n",
       "    <tr>\n",
       "      <th>2010-01-01</th>\n",
       "      <td>7.706163</td>\n",
       "    </tr>\n",
       "    <tr>\n",
       "      <th>2010-01-02</th>\n",
       "      <td>6.278521</td>\n",
       "    </tr>\n",
       "    <tr>\n",
       "      <th>2010-01-03</th>\n",
       "      <td>6.289716</td>\n",
       "    </tr>\n",
       "    <tr>\n",
       "      <th>2010-01-04</th>\n",
       "      <td>6.324359</td>\n",
       "    </tr>\n",
       "    <tr>\n",
       "      <th>2010-01-05</th>\n",
       "      <td>6.304449</td>\n",
       "    </tr>\n",
       "  </tbody>\n",
       "</table>\n",
       "</div>"
      ],
      "text/plain": [
       "               crime_count\n",
       "Date Occurred             \n",
       "2010-01-01        7.706163\n",
       "2010-01-02        6.278521\n",
       "2010-01-03        6.289716\n",
       "2010-01-04        6.324359\n",
       "2010-01-05        6.304449"
      ]
     },
     "execution_count": 8,
     "metadata": {},
     "output_type": "execute_result"
    }
   ],
   "source": [
    "log_data.head()"
   ]
  },
  {
   "cell_type": "markdown",
   "metadata": {},
   "source": [
    "## Train-Test Split\n",
    "When building an ARIMA model, we pass in the undifferenced, logged data."
   ]
  },
  {
   "cell_type": "code",
   "execution_count": 9,
   "metadata": {},
   "outputs": [],
   "source": [
    "X = log_data.index\n",
    "y = log_data['crime_count']"
   ]
  },
  {
   "cell_type": "code",
   "execution_count": 10,
   "metadata": {},
   "outputs": [],
   "source": [
    "train_set = log_data.loc['2010-01-01':'2016-12-31']\n",
    "test_set = log_data.loc['2017-01-01':'2018-12-31']"
   ]
  },
  {
   "cell_type": "code",
   "execution_count": 11,
   "metadata": {},
   "outputs": [],
   "source": [
    "X_train, X_test = train_set.index , test_set.index\n",
    "y_train, y_test = train_set['crime_count'] , test_set['crime_count']"
   ]
  },
  {
   "cell_type": "markdown",
   "metadata": {},
   "source": [
    "## Model #1: Autoregression (AR) Model"
   ]
  },
  {
   "cell_type": "code",
   "execution_count": 24,
   "metadata": {},
   "outputs": [
    {
     "name": "stdout",
     "output_type": "stream",
     "text": [
      "                            AutoReg Model Results                             \n",
      "==============================================================================\n",
      "Dep. Variable:            crime_count   No. Observations:                 2557\n",
      "Model:                     AutoReg(4)   Log Likelihood                1761.805\n",
      "Method:               Conditional MLE   S.D. of innovations              0.121\n",
      "Date:                Fri, 04 Dec 2020   AIC                             -4.213\n",
      "Time:                        15:11:40   BIC                             -4.200\n",
      "Sample:                    01-05-2010   HQIC                            -4.208\n",
      "                         - 12-31-2016                                         \n",
      "==================================================================================\n",
      "                     coef    std err          z      P>|z|      [0.025      0.975]\n",
      "----------------------------------------------------------------------------------\n",
      "intercept          3.2425      0.186     17.403      0.000       2.877       3.608\n",
      "crime_count.L1     0.1767      0.020      8.999      0.000       0.138       0.215\n",
      "crime_count.L2     0.0771      0.020      3.889      0.000       0.038       0.116\n",
      "crime_count.L3     0.1149      0.020      5.800      0.000       0.076       0.154\n",
      "crime_count.L4     0.1184      0.019      6.175      0.000       0.081       0.156\n",
      "                                    Roots                                    \n",
      "=============================================================================\n",
      "                  Real          Imaginary           Modulus         Frequency\n",
      "-----------------------------------------------------------------------------\n",
      "AR.1            1.3243           -0.0000j            1.3243           -0.0000\n",
      "AR.2           -0.1339           -1.7691j            1.7741           -0.2620\n",
      "AR.3           -0.1339           +1.7691j            1.7741            0.2620\n",
      "AR.4           -2.0271           -0.0000j            2.0271           -0.5000\n",
      "-----------------------------------------------------------------------------\n",
      "/Users/SidneyKung/opt/anaconda3/envs/learn-env/lib/python3.6/site-packages/statsmodels/tsa/base/tsa_model.py:162: ValueWarning: No frequency information was provided, so inferred frequency D will be used.\n",
      "  % freq, ValueWarning)\n"
     ]
    }
   ],
   "source": [
    "baseline_model = AutoReg(y_train, lags=4)\n",
    "output = baseline_model.fit()\n",
    "print(output.summary())\n",
    "\n",
    "# AutoReg(train_set, lags=4)"
   ]
  },
  {
   "cell_type": "code",
   "execution_count": 20,
   "metadata": {},
   "outputs": [],
   "source": [
    "# predictions = baseline_model.predict(X_train)"
   ]
  },
  {
   "cell_type": "code",
   "execution_count": 21,
   "metadata": {},
   "outputs": [],
   "source": [
    "# # generating RMSE\n",
    "# rmse = mean_squared_error(y_train, predictions, squared=False)\n",
    "# rmse"
   ]
  },
  {
   "cell_type": "code",
   "execution_count": null,
   "metadata": {},
   "outputs": [],
   "source": [
    "# metric graphs\n",
    "\n",
    "# output.plot_diagnostics(figsize=(10, 10))\n",
    "# plt.show()"
   ]
  },
  {
   "cell_type": "code",
   "execution_count": null,
   "metadata": {},
   "outputs": [],
   "source": [
    "# plot with forecast\n",
    "# run this graph to check if the model is generating dynamic forecasts\n",
    "\n",
    "# fig = output.plot_predict('2010-01-01', '2018-06-22', figsize=(10,6))"
   ]
  },
  {
   "cell_type": "markdown",
   "metadata": {},
   "source": [
    "## Model #2: ARIMA Model"
   ]
  },
  {
   "cell_type": "code",
   "execution_count": 16,
   "metadata": {},
   "outputs": [
    {
     "name": "stdout",
     "output_type": "stream",
     "text": [
      "                              ARMA Model Results                              \n",
      "==============================================================================\n",
      "Dep. Variable:            crime_count   No. Observations:                 2557\n",
      "Model:                    ARMA(10, 0)   Log Likelihood                1752.708\n",
      "Method:                       css-mle   S.D. of innovations              0.122\n",
      "Date:                Fri, 04 Dec 2020   AIC                          -3481.416\n",
      "Time:                        15:03:37   BIC                          -3411.257\n",
      "Sample:                    01-01-2010   HQIC                         -3455.974\n",
      "                         - 12-31-2016                                         \n",
      "======================================================================================\n",
      "                         coef    std err          z      P>|z|      [0.025      0.975]\n",
      "--------------------------------------------------------------------------------------\n",
      "const                  6.3231      0.007    855.922      0.000       6.309       6.338\n",
      "ar.L1.crime_count      0.1435      0.020      7.082      0.000       0.104       0.183\n",
      "ar.L2.crime_count      0.0409      0.020      2.004      0.045       0.001       0.081\n",
      "ar.L3.crime_count      0.0790      0.020      3.874      0.000       0.039       0.119\n",
      "ar.L4.crime_count      0.0878      0.020      4.327      0.000       0.048       0.128\n",
      "ar.L5.crime_count      0.0202      0.020      0.991      0.322      -0.020       0.060\n",
      "ar.L6.crime_count      0.0111      0.020      0.547      0.584      -0.029       0.051\n",
      "ar.L7.crime_count      0.1307      0.020      6.444      0.000       0.091       0.170\n",
      "ar.L8.crime_count      0.0283      0.020      1.388      0.165      -0.012       0.068\n",
      "ar.L9.crime_count      0.0967      0.020      4.743      0.000       0.057       0.137\n",
      "ar.L10.crime_count     0.0367      0.020      1.809      0.070      -0.003       0.076\n",
      "                                    Roots                                     \n",
      "==============================================================================\n",
      "                   Real          Imaginary           Modulus         Frequency\n",
      "------------------------------------------------------------------------------\n",
      "AR.1             1.0767           -0.0000j            1.0767           -0.0000\n",
      "AR.2             0.9394           -0.8172j            1.2451           -0.1140\n",
      "AR.3             0.9394           +0.8172j            1.2451            0.1140\n",
      "AR.4             0.2514           -1.3612j            1.3842           -0.2209\n",
      "AR.5             0.2514           +1.3612j            1.3842            0.2209\n",
      "AR.6            -0.4519           -1.2539j            1.3328           -0.3051\n",
      "AR.7            -0.4519           +1.2539j            1.3328            0.3051\n",
      "AR.8            -1.1938           -0.5361j            1.3086           -0.4328\n",
      "AR.9            -1.1938           +0.5361j            1.3086            0.4328\n",
      "AR.10           -2.8039           -0.0000j            2.8039           -0.5000\n",
      "------------------------------------------------------------------------------\n"
     ]
    }
   ],
   "source": [
    "# arima_model = ARIMA(train_set[:-1], order=(2,0,0))\n",
    "arima_model = ARIMA(y_train, order=(10,0,0), freq='D')\n",
    "model_fit = arima_model.fit(disp=0)\n",
    "print(model_fit.summary())\n",
    "\n",
    "# ARIMA(y_train)"
   ]
  },
  {
   "cell_type": "code",
   "execution_count": 17,
   "metadata": {},
   "outputs": [],
   "source": [
    "y_pred = arima_model.predict(X_train)\n",
    "\n",
    "# we should be measuring this on X_test too"
   ]
  },
  {
   "cell_type": "code",
   "execution_count": 18,
   "metadata": {},
   "outputs": [
    {
     "data": {
      "text/plain": [
       "1.1265687614520195e+36"
      ]
     },
     "execution_count": 18,
     "metadata": {},
     "output_type": "execute_result"
    }
   ],
   "source": [
    "# generating RMSE\n",
    "rmse = mean_squared_error(y_train, y_pred, squared=False)\n",
    "rmse"
   ]
  },
  {
   "cell_type": "code",
   "execution_count": null,
   "metadata": {},
   "outputs": [],
   "source": [
    "# plot with forecast\n",
    "# run this graph to check if the model is generating dynamic forecasts\n",
    "\n",
    "# fig = model_fit.plot_predict('2016-01-01', '2018-12-31')"
   ]
  }
 ],
 "metadata": {
  "kernelspec": {
   "display_name": "Python 3",
   "language": "python",
   "name": "python3"
  },
  "language_info": {
   "codemirror_mode": {
    "name": "ipython",
    "version": 3
   },
   "file_extension": ".py",
   "mimetype": "text/x-python",
   "name": "python",
   "nbconvert_exporter": "python",
   "pygments_lexer": "ipython3",
   "version": "3.6.9"
  }
 },
 "nbformat": 4,
 "nbformat_minor": 2
}
