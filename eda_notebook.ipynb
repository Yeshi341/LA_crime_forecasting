{
 "metadata": {
  "language_info": {
   "codemirror_mode": {
    "name": "ipython",
    "version": 3
   },
   "file_extension": ".py",
   "mimetype": "text/x-python",
   "name": "python",
   "nbconvert_exporter": "python",
   "pygments_lexer": "ipython3",
   "version": "3.6.9-final"
  },
  "orig_nbformat": 2,
  "kernelspec": {
   "name": "python3",
   "display_name": "Python 3"
  }
 },
 "nbformat": 4,
 "nbformat_minor": 2,
 "cells": [
  {
   "cell_type": "code",
   "execution_count": 13,
   "metadata": {},
   "outputs": [],
   "source": [
    "import numpy as np\n",
    "import pandas as pd\n",
    "pd.options.display.max_columns = 50\n",
    "import matplotlib.pyplot as pyplot\n",
    "%matplotlib inline\n",
    "import seaborn as sns\n",
    "import sklearn"
   ]
  },
  {
   "source": [
    "## 1) Load in `.csv` file"
   ],
   "cell_type": "markdown",
   "metadata": {}
  },
  {
   "cell_type": "code",
   "execution_count": 14,
   "metadata": {},
   "outputs": [],
   "source": [
    "df = pd.read_csv('crime-data-from-2010-to-present.csv')"
   ]
  },
  {
   "cell_type": "code",
   "execution_count": 15,
   "metadata": {},
   "outputs": [
    {
     "output_type": "execute_result",
     "data": {
      "text/plain": [
       "   DR Number        Date Reported        Date Occurred  Time Occurred  \\\n",
       "0  102005556  2010-01-25T00:00:00  2010-01-22T00:00:00           2300   \n",
       "1  101822289  2010-11-11T00:00:00  2010-11-10T00:00:00           1800   \n",
       "2  101105609  2010-01-28T00:00:00  2010-01-27T00:00:00           2230   \n",
       "3  101620051  2010-11-11T00:00:00  2010-11-07T00:00:00           1600   \n",
       "4  101910498  2010-04-07T00:00:00  2010-04-07T00:00:00           1600   \n",
       "\n",
       "   Area ID  Area Name  Reporting District  Crime Code Crime Code Description  \\\n",
       "0       20    Olympic                2071         510       VEHICLE - STOLEN   \n",
       "1       18  Southeast                1803         510       VEHICLE - STOLEN   \n",
       "2       11  Northeast                1125         510       VEHICLE - STOLEN   \n",
       "3       16   Foothill                1641         510       VEHICLE - STOLEN   \n",
       "4       19    Mission                1902         510       VEHICLE - STOLEN   \n",
       "\n",
       "  MO Codes  Victim Age Victim Sex Victim Descent  Premise Code  \\\n",
       "0      NaN           0        NaN            NaN         101.0   \n",
       "1      NaN           0        NaN            NaN         101.0   \n",
       "2      NaN           0        NaN            NaN         108.0   \n",
       "3      NaN           0        NaN            NaN         101.0   \n",
       "4      NaN           0        NaN            NaN         101.0   \n",
       "\n",
       "  Premise Description  Weapon Used Code Weapon Description Status Code  \\\n",
       "0              STREET               NaN                NaN          IC   \n",
       "1              STREET               NaN                NaN          IC   \n",
       "2         PARKING LOT               NaN                NaN          IC   \n",
       "3              STREET               NaN                NaN          IC   \n",
       "4              STREET               NaN                NaN          IC   \n",
       "\n",
       "  Status Description  Crime Code 1  Crime Code 2  Crime Code 3  Crime Code 4  \\\n",
       "0        Invest Cont         510.0           NaN           NaN           NaN   \n",
       "1        Invest Cont         510.0           NaN           NaN           NaN   \n",
       "2        Invest Cont         510.0           NaN           NaN           NaN   \n",
       "3        Invest Cont         510.0           NaN           NaN           NaN   \n",
       "4        Invest Cont         510.0           NaN           NaN           NaN   \n",
       "\n",
       "     Address Cross Street                                          Location   \n",
       "0   VAN NESS         15TH  {'latitude': '34.0454', 'needs_recoding': Fals...  \n",
       "1       88TH         WALL  {'latitude': '33.9572', 'needs_recoding': Fals...  \n",
       "2       YORK    AVENUE 51  {'latitude': '34.1211', 'needs_recoding': Fals...  \n",
       "3  EL DORADO    TRUESDALE  {'latitude': '34.241', 'needs_recoding': False...  \n",
       "4   GLENOAKS        DRELL  {'latitude': '34.3147', 'needs_recoding': Fals...  "
      ],
      "text/html": "<div>\n<style scoped>\n    .dataframe tbody tr th:only-of-type {\n        vertical-align: middle;\n    }\n\n    .dataframe tbody tr th {\n        vertical-align: top;\n    }\n\n    .dataframe thead th {\n        text-align: right;\n    }\n</style>\n<table border=\"1\" class=\"dataframe\">\n  <thead>\n    <tr style=\"text-align: right;\">\n      <th></th>\n      <th>DR Number</th>\n      <th>Date Reported</th>\n      <th>Date Occurred</th>\n      <th>Time Occurred</th>\n      <th>Area ID</th>\n      <th>Area Name</th>\n      <th>Reporting District</th>\n      <th>Crime Code</th>\n      <th>Crime Code Description</th>\n      <th>MO Codes</th>\n      <th>Victim Age</th>\n      <th>Victim Sex</th>\n      <th>Victim Descent</th>\n      <th>Premise Code</th>\n      <th>Premise Description</th>\n      <th>Weapon Used Code</th>\n      <th>Weapon Description</th>\n      <th>Status Code</th>\n      <th>Status Description</th>\n      <th>Crime Code 1</th>\n      <th>Crime Code 2</th>\n      <th>Crime Code 3</th>\n      <th>Crime Code 4</th>\n      <th>Address</th>\n      <th>Cross Street</th>\n      <th>Location</th>\n    </tr>\n  </thead>\n  <tbody>\n    <tr>\n      <th>0</th>\n      <td>102005556</td>\n      <td>2010-01-25T00:00:00</td>\n      <td>2010-01-22T00:00:00</td>\n      <td>2300</td>\n      <td>20</td>\n      <td>Olympic</td>\n      <td>2071</td>\n      <td>510</td>\n      <td>VEHICLE - STOLEN</td>\n      <td>NaN</td>\n      <td>0</td>\n      <td>NaN</td>\n      <td>NaN</td>\n      <td>101.0</td>\n      <td>STREET</td>\n      <td>NaN</td>\n      <td>NaN</td>\n      <td>IC</td>\n      <td>Invest Cont</td>\n      <td>510.0</td>\n      <td>NaN</td>\n      <td>NaN</td>\n      <td>NaN</td>\n      <td>VAN NESS</td>\n      <td>15TH</td>\n      <td>{'latitude': '34.0454', 'needs_recoding': Fals...</td>\n    </tr>\n    <tr>\n      <th>1</th>\n      <td>101822289</td>\n      <td>2010-11-11T00:00:00</td>\n      <td>2010-11-10T00:00:00</td>\n      <td>1800</td>\n      <td>18</td>\n      <td>Southeast</td>\n      <td>1803</td>\n      <td>510</td>\n      <td>VEHICLE - STOLEN</td>\n      <td>NaN</td>\n      <td>0</td>\n      <td>NaN</td>\n      <td>NaN</td>\n      <td>101.0</td>\n      <td>STREET</td>\n      <td>NaN</td>\n      <td>NaN</td>\n      <td>IC</td>\n      <td>Invest Cont</td>\n      <td>510.0</td>\n      <td>NaN</td>\n      <td>NaN</td>\n      <td>NaN</td>\n      <td>88TH</td>\n      <td>WALL</td>\n      <td>{'latitude': '33.9572', 'needs_recoding': Fals...</td>\n    </tr>\n    <tr>\n      <th>2</th>\n      <td>101105609</td>\n      <td>2010-01-28T00:00:00</td>\n      <td>2010-01-27T00:00:00</td>\n      <td>2230</td>\n      <td>11</td>\n      <td>Northeast</td>\n      <td>1125</td>\n      <td>510</td>\n      <td>VEHICLE - STOLEN</td>\n      <td>NaN</td>\n      <td>0</td>\n      <td>NaN</td>\n      <td>NaN</td>\n      <td>108.0</td>\n      <td>PARKING LOT</td>\n      <td>NaN</td>\n      <td>NaN</td>\n      <td>IC</td>\n      <td>Invest Cont</td>\n      <td>510.0</td>\n      <td>NaN</td>\n      <td>NaN</td>\n      <td>NaN</td>\n      <td>YORK</td>\n      <td>AVENUE 51</td>\n      <td>{'latitude': '34.1211', 'needs_recoding': Fals...</td>\n    </tr>\n    <tr>\n      <th>3</th>\n      <td>101620051</td>\n      <td>2010-11-11T00:00:00</td>\n      <td>2010-11-07T00:00:00</td>\n      <td>1600</td>\n      <td>16</td>\n      <td>Foothill</td>\n      <td>1641</td>\n      <td>510</td>\n      <td>VEHICLE - STOLEN</td>\n      <td>NaN</td>\n      <td>0</td>\n      <td>NaN</td>\n      <td>NaN</td>\n      <td>101.0</td>\n      <td>STREET</td>\n      <td>NaN</td>\n      <td>NaN</td>\n      <td>IC</td>\n      <td>Invest Cont</td>\n      <td>510.0</td>\n      <td>NaN</td>\n      <td>NaN</td>\n      <td>NaN</td>\n      <td>EL DORADO</td>\n      <td>TRUESDALE</td>\n      <td>{'latitude': '34.241', 'needs_recoding': False...</td>\n    </tr>\n    <tr>\n      <th>4</th>\n      <td>101910498</td>\n      <td>2010-04-07T00:00:00</td>\n      <td>2010-04-07T00:00:00</td>\n      <td>1600</td>\n      <td>19</td>\n      <td>Mission</td>\n      <td>1902</td>\n      <td>510</td>\n      <td>VEHICLE - STOLEN</td>\n      <td>NaN</td>\n      <td>0</td>\n      <td>NaN</td>\n      <td>NaN</td>\n      <td>101.0</td>\n      <td>STREET</td>\n      <td>NaN</td>\n      <td>NaN</td>\n      <td>IC</td>\n      <td>Invest Cont</td>\n      <td>510.0</td>\n      <td>NaN</td>\n      <td>NaN</td>\n      <td>NaN</td>\n      <td>GLENOAKS</td>\n      <td>DRELL</td>\n      <td>{'latitude': '34.3147', 'needs_recoding': Fals...</td>\n    </tr>\n  </tbody>\n</table>\n</div>"
     },
     "metadata": {},
     "execution_count": 15
    }
   ],
   "source": [
    "df.head()"
   ]
  },
  {
   "cell_type": "code",
   "execution_count": 17,
   "metadata": {},
   "outputs": [
    {
     "output_type": "execute_result",
     "data": {
      "text/plain": [
       "(1993259, 26)"
      ]
     },
     "metadata": {},
     "execution_count": 17
    }
   ],
   "source": [
    "df.shape"
   ]
  },
  {
   "cell_type": "code",
   "execution_count": null,
   "metadata": {},
   "outputs": [],
   "source": []
  }
 ]
}