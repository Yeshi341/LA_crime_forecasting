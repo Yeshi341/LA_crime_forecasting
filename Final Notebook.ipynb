{
 "cells": [
  {
   "cell_type": "markdown",
   "metadata": {},
   "source": [
    "# Los Angeles Crime Forecasting\n",
    "#### -- David Bruce, Sidney Kung, Lhamu Tsering"
   ]
  },
  {
   "cell_type": "markdown",
   "metadata": {},
   "source": [
    "<img src=\"visualizations/los-angeles-us-banner-dp-min.png\">"
   ]
  },
  {
   "cell_type": "markdown",
   "metadata": {},
   "source": [
    "## Overview"
   ]
  },
  {
   "cell_type": "markdown",
   "metadata": {},
   "source": [
    "-- Enter text here"
   ]
  },
  {
   "cell_type": "markdown",
   "metadata": {},
   "source": [
    "## Business Problem"
   ]
  },
  {
   "cell_type": "markdown",
   "metadata": {},
   "source": [
    "-- Enter text here"
   ]
  },
  {
   "cell_type": "markdown",
   "metadata": {},
   "source": [
    "## Data Understanding"
   ]
  },
  {
   "cell_type": "markdown",
   "metadata": {},
   "source": [
    "-- Enter text here"
   ]
  },
  {
   "cell_type": "code",
   "execution_count": 3,
   "metadata": {},
   "outputs": [],
   "source": [
    "# Importing Utility Functions\n",
    "import numpy as np\n",
    "import pandas as pd\n",
    "import pickle\n",
    " \n",
    "# Ignore warnings\n",
    "from warnings import filterwarnings\n",
    "filterwarnings('ignore')\n",
    "\n",
    "# Importing Graphing libraries\n",
    "import matplotlib.pyplot as plt\n",
    "%matplotlib inline\n",
    "import seaborn as sns\n",
    "import folium\n",
    "\n",
    "# Importing Models\n",
    "\n",
    "# Importing Model Evaluation"
   ]
  },
  {
   "cell_type": "code",
   "execution_count": 6,
   "metadata": {},
   "outputs": [],
   "source": [
    "# Loading crime data csv file\n",
    "df = pd.read_csv('data/extracted/crime-data-from-2010-to-present.csv')"
   ]
  },
  {
   "cell_type": "code",
   "execution_count": 7,
   "metadata": {},
   "outputs": [
    {
     "data": {
      "text/html": [
       "<div>\n",
       "<style scoped>\n",
       "    .dataframe tbody tr th:only-of-type {\n",
       "        vertical-align: middle;\n",
       "    }\n",
       "\n",
       "    .dataframe tbody tr th {\n",
       "        vertical-align: top;\n",
       "    }\n",
       "\n",
       "    .dataframe thead th {\n",
       "        text-align: right;\n",
       "    }\n",
       "</style>\n",
       "<table border=\"1\" class=\"dataframe\">\n",
       "  <thead>\n",
       "    <tr style=\"text-align: right;\">\n",
       "      <th></th>\n",
       "      <th>DR Number</th>\n",
       "      <th>Date Reported</th>\n",
       "      <th>Date Occurred</th>\n",
       "      <th>Time Occurred</th>\n",
       "      <th>Area ID</th>\n",
       "      <th>Area Name</th>\n",
       "      <th>Reporting District</th>\n",
       "      <th>Crime Code</th>\n",
       "      <th>Crime Code Description</th>\n",
       "      <th>MO Codes</th>\n",
       "      <th>...</th>\n",
       "      <th>Weapon Description</th>\n",
       "      <th>Status Code</th>\n",
       "      <th>Status Description</th>\n",
       "      <th>Crime Code 1</th>\n",
       "      <th>Crime Code 2</th>\n",
       "      <th>Crime Code 3</th>\n",
       "      <th>Crime Code 4</th>\n",
       "      <th>Address</th>\n",
       "      <th>Cross Street</th>\n",
       "      <th>Location</th>\n",
       "    </tr>\n",
       "  </thead>\n",
       "  <tbody>\n",
       "    <tr>\n",
       "      <th>0</th>\n",
       "      <td>102005556</td>\n",
       "      <td>2010-01-25T00:00:00</td>\n",
       "      <td>2010-01-22T00:00:00</td>\n",
       "      <td>2300</td>\n",
       "      <td>20</td>\n",
       "      <td>Olympic</td>\n",
       "      <td>2071</td>\n",
       "      <td>510</td>\n",
       "      <td>VEHICLE - STOLEN</td>\n",
       "      <td>NaN</td>\n",
       "      <td>...</td>\n",
       "      <td>NaN</td>\n",
       "      <td>IC</td>\n",
       "      <td>Invest Cont</td>\n",
       "      <td>510.0</td>\n",
       "      <td>NaN</td>\n",
       "      <td>NaN</td>\n",
       "      <td>NaN</td>\n",
       "      <td>VAN NESS</td>\n",
       "      <td>15TH</td>\n",
       "      <td>{'latitude': '34.0454', 'needs_recoding': Fals...</td>\n",
       "    </tr>\n",
       "    <tr>\n",
       "      <th>1</th>\n",
       "      <td>101822289</td>\n",
       "      <td>2010-11-11T00:00:00</td>\n",
       "      <td>2010-11-10T00:00:00</td>\n",
       "      <td>1800</td>\n",
       "      <td>18</td>\n",
       "      <td>Southeast</td>\n",
       "      <td>1803</td>\n",
       "      <td>510</td>\n",
       "      <td>VEHICLE - STOLEN</td>\n",
       "      <td>NaN</td>\n",
       "      <td>...</td>\n",
       "      <td>NaN</td>\n",
       "      <td>IC</td>\n",
       "      <td>Invest Cont</td>\n",
       "      <td>510.0</td>\n",
       "      <td>NaN</td>\n",
       "      <td>NaN</td>\n",
       "      <td>NaN</td>\n",
       "      <td>88TH</td>\n",
       "      <td>WALL</td>\n",
       "      <td>{'latitude': '33.9572', 'needs_recoding': Fals...</td>\n",
       "    </tr>\n",
       "    <tr>\n",
       "      <th>2</th>\n",
       "      <td>101105609</td>\n",
       "      <td>2010-01-28T00:00:00</td>\n",
       "      <td>2010-01-27T00:00:00</td>\n",
       "      <td>2230</td>\n",
       "      <td>11</td>\n",
       "      <td>Northeast</td>\n",
       "      <td>1125</td>\n",
       "      <td>510</td>\n",
       "      <td>VEHICLE - STOLEN</td>\n",
       "      <td>NaN</td>\n",
       "      <td>...</td>\n",
       "      <td>NaN</td>\n",
       "      <td>IC</td>\n",
       "      <td>Invest Cont</td>\n",
       "      <td>510.0</td>\n",
       "      <td>NaN</td>\n",
       "      <td>NaN</td>\n",
       "      <td>NaN</td>\n",
       "      <td>YORK</td>\n",
       "      <td>AVENUE 51</td>\n",
       "      <td>{'latitude': '34.1211', 'needs_recoding': Fals...</td>\n",
       "    </tr>\n",
       "    <tr>\n",
       "      <th>3</th>\n",
       "      <td>101620051</td>\n",
       "      <td>2010-11-11T00:00:00</td>\n",
       "      <td>2010-11-07T00:00:00</td>\n",
       "      <td>1600</td>\n",
       "      <td>16</td>\n",
       "      <td>Foothill</td>\n",
       "      <td>1641</td>\n",
       "      <td>510</td>\n",
       "      <td>VEHICLE - STOLEN</td>\n",
       "      <td>NaN</td>\n",
       "      <td>...</td>\n",
       "      <td>NaN</td>\n",
       "      <td>IC</td>\n",
       "      <td>Invest Cont</td>\n",
       "      <td>510.0</td>\n",
       "      <td>NaN</td>\n",
       "      <td>NaN</td>\n",
       "      <td>NaN</td>\n",
       "      <td>EL DORADO</td>\n",
       "      <td>TRUESDALE</td>\n",
       "      <td>{'latitude': '34.241', 'needs_recoding': False...</td>\n",
       "    </tr>\n",
       "    <tr>\n",
       "      <th>4</th>\n",
       "      <td>101910498</td>\n",
       "      <td>2010-04-07T00:00:00</td>\n",
       "      <td>2010-04-07T00:00:00</td>\n",
       "      <td>1600</td>\n",
       "      <td>19</td>\n",
       "      <td>Mission</td>\n",
       "      <td>1902</td>\n",
       "      <td>510</td>\n",
       "      <td>VEHICLE - STOLEN</td>\n",
       "      <td>NaN</td>\n",
       "      <td>...</td>\n",
       "      <td>NaN</td>\n",
       "      <td>IC</td>\n",
       "      <td>Invest Cont</td>\n",
       "      <td>510.0</td>\n",
       "      <td>NaN</td>\n",
       "      <td>NaN</td>\n",
       "      <td>NaN</td>\n",
       "      <td>GLENOAKS</td>\n",
       "      <td>DRELL</td>\n",
       "      <td>{'latitude': '34.3147', 'needs_recoding': Fals...</td>\n",
       "    </tr>\n",
       "  </tbody>\n",
       "</table>\n",
       "<p>5 rows × 26 columns</p>\n",
       "</div>"
      ],
      "text/plain": [
       "   DR Number        Date Reported        Date Occurred  Time Occurred  \\\n",
       "0  102005556  2010-01-25T00:00:00  2010-01-22T00:00:00           2300   \n",
       "1  101822289  2010-11-11T00:00:00  2010-11-10T00:00:00           1800   \n",
       "2  101105609  2010-01-28T00:00:00  2010-01-27T00:00:00           2230   \n",
       "3  101620051  2010-11-11T00:00:00  2010-11-07T00:00:00           1600   \n",
       "4  101910498  2010-04-07T00:00:00  2010-04-07T00:00:00           1600   \n",
       "\n",
       "   Area ID  Area Name  Reporting District  Crime Code Crime Code Description  \\\n",
       "0       20    Olympic                2071         510       VEHICLE - STOLEN   \n",
       "1       18  Southeast                1803         510       VEHICLE - STOLEN   \n",
       "2       11  Northeast                1125         510       VEHICLE - STOLEN   \n",
       "3       16   Foothill                1641         510       VEHICLE - STOLEN   \n",
       "4       19    Mission                1902         510       VEHICLE - STOLEN   \n",
       "\n",
       "  MO Codes  ...  Weapon Description Status Code Status Description  \\\n",
       "0      NaN  ...                 NaN          IC        Invest Cont   \n",
       "1      NaN  ...                 NaN          IC        Invest Cont   \n",
       "2      NaN  ...                 NaN          IC        Invest Cont   \n",
       "3      NaN  ...                 NaN          IC        Invest Cont   \n",
       "4      NaN  ...                 NaN          IC        Invest Cont   \n",
       "\n",
       "   Crime Code 1 Crime Code 2  Crime Code 3 Crime Code 4    Address  \\\n",
       "0         510.0          NaN           NaN          NaN   VAN NESS   \n",
       "1         510.0          NaN           NaN          NaN       88TH   \n",
       "2         510.0          NaN           NaN          NaN       YORK   \n",
       "3         510.0          NaN           NaN          NaN  EL DORADO   \n",
       "4         510.0          NaN           NaN          NaN   GLENOAKS   \n",
       "\n",
       "  Cross Street                                          Location   \n",
       "0         15TH  {'latitude': '34.0454', 'needs_recoding': Fals...  \n",
       "1         WALL  {'latitude': '33.9572', 'needs_recoding': Fals...  \n",
       "2    AVENUE 51  {'latitude': '34.1211', 'needs_recoding': Fals...  \n",
       "3    TRUESDALE  {'latitude': '34.241', 'needs_recoding': False...  \n",
       "4        DRELL  {'latitude': '34.3147', 'needs_recoding': Fals...  \n",
       "\n",
       "[5 rows x 26 columns]"
      ]
     },
     "execution_count": 7,
     "metadata": {},
     "output_type": "execute_result"
    }
   ],
   "source": [
    "# Preview of crime data\n",
    "df.head()"
   ]
  },
  {
   "cell_type": "code",
   "execution_count": 9,
   "metadata": {},
   "outputs": [
    {
     "data": {
      "text/plain": [
       "(1993259, 26)"
      ]
     },
     "execution_count": 9,
     "metadata": {},
     "output_type": "execute_result"
    }
   ],
   "source": [
    "df.shape"
   ]
  },
  {
   "cell_type": "markdown",
   "metadata": {},
   "source": [
    "The data has 1,993,259 observations over 26 variables. Each row is a record of information on crime that was reported, where it occurred, when it occurred, what the crime was, and information on the victims of the crime. \n",
    "\n",
    "The crime data information is daily crime data collected from January of 2010 to end of June 2019.\n",
    "\n",
    "The variables are merely traits of the crime itself and has no bearing over the crime occurring itself.The trait variables can however be pieced and analyzed to study demographic characteristics and geographic characteristics of crimes reported in Los Angeles or LA."
   ]
  },
  {
   "cell_type": "markdown",
   "metadata": {},
   "source": [
    "## Data Cleaning"
   ]
  },
  {
   "cell_type": "code",
   "execution_count": 10,
   "metadata": {},
   "outputs": [
    {
     "data": {
      "text/plain": [
       "DR Number                       0\n",
       "Date Reported                   0\n",
       "Date Occurred                   0\n",
       "Time Occurred                   0\n",
       "Area ID                         0\n",
       "Area Name                       0\n",
       "Reporting District              0\n",
       "Crime Code                      0\n",
       "Crime Code Description          0\n",
       "MO Codes                   215872\n",
       "Victim Age                      0\n",
       "Victim Sex                 185960\n",
       "Victim Descent             186006\n",
       "Premise Code                   50\n",
       "Premise Description           135\n",
       "Weapon Used Code          1325641\n",
       "Weapon Description        1325642\n",
       "Status Code                     3\n",
       "Status Description              0\n",
       "Crime Code 1                    9\n",
       "Crime Code 2              1863098\n",
       "Crime Code 3              1990024\n",
       "Crime Code 4              1993163\n",
       "Address                         0\n",
       "Cross Street              1659507\n",
       "Location                        0\n",
       "dtype: int64"
      ]
     },
     "execution_count": 10,
     "metadata": {},
     "output_type": "execute_result"
    }
   ],
   "source": [
    "# checking for null values\n",
    "df.isna().sum()"
   ]
  },
  {
   "cell_type": "code",
   "execution_count": 11,
   "metadata": {},
   "outputs": [],
   "source": [
    "# removing empty time stamp from Date Reported and Date Ocurred\n",
    "df[\"Date Occurred\"] = df[\"Date Occurred\"].str.replace('T00:00:00', '')\n",
    "\n",
    "# setting 'date occured' column as datetime object\n",
    "df['Date Occurred'] = pd.to_datetime(df['Date Occurred'], format= '%Y-%m-%d')\n",
    "\n",
    "# Setting datetime index for time series data\n",
    "df = df.set_index('Date Occurred').sort_index()"
   ]
  },
  {
   "cell_type": "code",
   "execution_count": 12,
   "metadata": {},
   "outputs": [],
   "source": [
    "# Correcting negative ages in data to 0\n",
    "df['Victim Age'] = np.where((df['Victim Age'] < 0), 0,df['Victim Age'])\n",
    "\n",
    "# Filling missing value in victim sex and replacing based on data description\n",
    "df['Victim Sex'].replace(to_replace=['H', '-', 'N'], value='X', inplace = True)\n",
    "df['Victim Sex'].fillna('X', inplace= True)\n",
    "\n",
    "# Filling missing value in victim descent and replacing based on data description \n",
    "df['Victim Descent'].fillna('X', inplace= True)\n",
    "df['Victim Descent'].replace(to_replace=['-'], value='X', inplace = True)\n",
    "\n",
    "#Filling missing premise code values with 0 and correcting code per description\n",
    "df['Premise Code'].fillna(0, inplace = True)\n",
    "df['Premise Code'] = np.where(df['Premise Description']== 'UNKNOWN', 0.0, df['Premise Code'])\n",
    "\n",
    "# Filling missing values \n",
    "df['Premise Description'].fillna('UNKNOWN', inplace = True)\n",
    "\n",
    "#Filling missing values and replacing based on data description\n",
    "df['Status Code'].fillna('UNK', inplace = True)\n",
    "df['Status Code'].replace(to_replace=['CC', 'TH', '19', '13'], value='UNK', inplace = True)\n",
    "\n",
    "#removing space in column name\n",
    "df = df.rename(columns={'Location ': 'Location'})\n"
   ]
  },
  {
   "cell_type": "markdown",
   "metadata": {},
   "source": [
    "**A more detailed information on data cleaning can be found the [data cleaning nb]('data_cleaning_lhamu.ipynb')**"
   ]
  },
  {
   "cell_type": "code",
   "execution_count": 13,
   "metadata": {},
   "outputs": [],
   "source": [
    "# pulling out whole latitude dict\n",
    "df['latitude'] = df['Location'].str.extract('(\\'latitude\\'\\:\\s\\'\\-?\\d+\\.?\\d+\\')', expand=False).str.strip()\n",
    "# pulling out only coordinate\n",
    "df['latitude'] = df['latitude'].str.extract('(-?\\d+\\.?\\d+)', expand=False).str.strip()\n",
    "\n",
    "# pulling out whole latitude dict\n",
    "df['longitude'] = df['Location'].str.extract('(\\'longitude\\'\\:\\s\\'\\-?\\d+\\.?\\d+\\')', expand=False).str.strip()\n",
    "# pulling out only coordinate\n",
    "df['longitude'] = df['longitude'].str.extract('(-?\\d+\\.?\\d+)', expand=False).str.strip()"
   ]
  },
  {
   "cell_type": "code",
   "execution_count": 16,
   "metadata": {},
   "outputs": [
    {
     "data": {
      "text/plain": [
       "DR Number                       0\n",
       "Date Reported                   0\n",
       "Time Occurred                   0\n",
       "Area ID                         0\n",
       "Area Name                       0\n",
       "Reporting District              0\n",
       "Crime Code                      0\n",
       "Crime Code Description          0\n",
       "MO Codes                   215872\n",
       "Victim Age                      0\n",
       "Victim Sex                      0\n",
       "Victim Descent                  0\n",
       "Premise Code                    0\n",
       "Premise Description             0\n",
       "Weapon Used Code          1325641\n",
       "Weapon Description        1325642\n",
       "Status Code                     0\n",
       "Status Description              0\n",
       "Crime Code 1                    9\n",
       "Crime Code 2              1863098\n",
       "Crime Code 3              1990024\n",
       "Crime Code 4              1993163\n",
       "Address                         0\n",
       "Cross Street              1659507\n",
       "Location                        0\n",
       "latitude                        0\n",
       "longitude                       0\n",
       "dtype: int64"
      ]
     },
     "execution_count": 16,
     "metadata": {},
     "output_type": "execute_result"
    }
   ],
   "source": [
    "# rechecking for null values\n",
    "df.isna().sum()"
   ]
  },
  {
   "cell_type": "markdown",
   "metadata": {},
   "source": [
    "There are still some variables with missing values but we will not be using them to do any analysis and will be excluded from the cleaned df"
   ]
  },
  {
   "cell_type": "code",
   "execution_count": 18,
   "metadata": {},
   "outputs": [],
   "source": [
    "# selecting relevant features for the cleaned dataframe\n",
    "cleaned_features=['DR Number', 'Time Occurred','Area ID', 'Area Name',\n",
    "                  'Reporting District', \n",
    "                  'Crime Code', 'Crime Code Description',\n",
    "                  'Victim Age',\n",
    "                  'Victim Sex', \n",
    "                  'Victim Descent', \n",
    "                  'Premise Code', 'Premise Description',\n",
    "                  'Status Code', 'Status Description',\n",
    "                  'latitude', 'longitude']\n",
    "\n",
    "#Setting up Cleaned df\n",
    "cleaned_df = df[cleaned_features]"
   ]
  },
  {
   "cell_type": "code",
   "execution_count": 23,
   "metadata": {},
   "outputs": [
    {
     "data": {
      "text/plain": [
       "(1993259, 16)"
      ]
     },
     "execution_count": 23,
     "metadata": {},
     "output_type": "execute_result"
    }
   ],
   "source": [
    "cleaned_df.shape"
   ]
  },
  {
   "cell_type": "code",
   "execution_count": 19,
   "metadata": {},
   "outputs": [],
   "source": [
    "# Loading pickled cleaned df for ease of work in final notebook\n",
    "# clean_df = pd.read_pickle('data/pickled/cleaned_df.pkl')"
   ]
  },
  {
   "cell_type": "code",
   "execution_count": 58,
   "metadata": {},
   "outputs": [],
   "source": [
    "# checking to confirm loaded pickled data as same shape as cleaned df above\n",
    "# clean_df.shape"
   ]
  },
  {
   "cell_type": "markdown",
   "metadata": {},
   "source": [
    "## Data EDA\n",
    "\n",
    "A detailed EDA can be found in the [EDA notebook]('eda_lhamu.ipynb').\n",
    "Here, we will explore data to show how our business questions were investigated."
   ]
  },
  {
   "cell_type": "markdown",
   "metadata": {},
   "source": [
    "#### What areas in LA have the highest crime rate?"
   ]
  },
  {
   "cell_type": "code",
   "execution_count": 44,
   "metadata": {},
   "outputs": [
    {
     "data": {
      "image/png": "[encoded data removed]",
      "text/plain": [
       "<Figure size 720x432 with 1 Axes>"
      ]
     },
     "metadata": {
      "needs_background": "light"
     },
     "output_type": "display_data"
    }
   ],
   "source": [
    "# Setting up figure\n",
    "plt.figure(figsize=(10,6))\n",
    "\n",
    "# Plotting categorial count plot for crime by area\n",
    "sns.countplot(y='Area Name', data= clean_df, orient=\"h\", \n",
    "              order=clean_df['Area Name'].value_counts().index)\n",
    "\n",
    "# Setting x axis label and figure title\n",
    "plt.xlabel('Volume of Crime in an Area')\n",
    "plt.title('Los Angeles- Volume of Crime across the 21 LA Geog Area');"
   ]
  },
  {
   "cell_type": "code",
   "execution_count": 50,
   "metadata": {},
   "outputs": [
    {
     "data": {
      "text/plain": [
       "77th Street    137513\n",
       "Southwest      128111\n",
       "N Hollywood    107707\n",
       "Pacific        105655\n",
       "Southeast      105104\n",
       "Mission         98395\n",
       "Name: Area Name, dtype: int64"
      ]
     },
     "execution_count": 50,
     "metadata": {},
     "output_type": "execute_result"
    }
   ],
   "source": [
    "clean_df['Area Name'].value_counts()[:6]"
   ]
  },
  {
   "cell_type": "markdown",
   "metadata": {},
   "source": [
    "The top 5 areas where most of the crimes in LA have occured among the 21 geographic areas is 77th Street, Southwest, North Hollywood, Pacific, and Southeast."
   ]
  },
  {
   "cell_type": "markdown",
   "metadata": {},
   "source": [
    "**Sidney's folium map goes here**"
   ]
  },
  {
   "cell_type": "code",
   "execution_count": null,
   "metadata": {},
   "outputs": [],
   "source": []
  },
  {
   "cell_type": "code",
   "execution_count": null,
   "metadata": {},
   "outputs": [],
   "source": []
  },
  {
   "cell_type": "code",
   "execution_count": null,
   "metadata": {},
   "outputs": [],
   "source": []
  },
  {
   "cell_type": "markdown",
   "metadata": {},
   "source": [
    "#### What are the top 3 vulnerable demographics in LA?"
   ]
  },
  {
   "cell_type": "code",
   "execution_count": 39,
   "metadata": {},
   "outputs": [
    {
     "data": {
      "image/png": "[encoded data removed]",
      "text/plain": [
       "<Figure size 288x288 with 1 Axes>"
      ]
     },
     "metadata": {
      "needs_background": "light"
     },
     "output_type": "display_data"
    }
   ],
   "source": [
    "# Plotting  a countplot of Victim Descent\n",
    "g = sns.catplot(x=\"Victim Descent\", \n",
    "                data=clean_df, \n",
    "                kind=\"count\",\n",
    "                height=4, orient=\"h\",\n",
    "                order=clean_df['Victim Descent'].value_counts()[:7].index)\n",
    "\n",
    "#setting x tick labels\n",
    "g.set_xticklabels(['Latinx','White','Black','Unknown', 'Other', 'Other Asian','Korean'], rotation= 'vertical')\n",
    "\n",
    "#setting y label\n",
    "g.set_ylabels('Number of Victims')\n",
    "g.set_titles('Distribution of victims by Descent');"
   ]
  },
  {
   "cell_type": "code",
   "execution_count": 43,
   "metadata": {},
   "outputs": [
    {
     "data": {
      "text/plain": [
       "H    0.343869\n",
       "W    0.242334\n",
       "B    0.159008\n",
       "X    0.127551\n",
       "O    0.096124\n",
       "A    0.024052\n",
       "K    0.004366\n",
       "F    0.001183\n",
       "C    0.000443\n",
       "I    0.000437\n",
       "Name: Victim Descent, dtype: float64"
      ]
     },
     "execution_count": 43,
     "metadata": {},
     "output_type": "execute_result"
    }
   ],
   "source": [
    "# Proportion of victims sorted in descenting order for the \n",
    "clean_df['Victim Descent'].value_counts(normalize= True)[:10]"
   ]
  },
  {
   "cell_type": "markdown",
   "metadata": {},
   "source": [
    "For all the crimes reported between 2010 and June of 2019, at 34%, victims of *Latinx* descent account for the highest number of victims of crimes in that period. White victims account for 24% and Black victims account for 16% of all crime victims in that period."
   ]
  },
  {
   "cell_type": "code",
   "execution_count": 41,
   "metadata": {},
   "outputs": [
    {
     "data": {
      "image/png": "[encoded data removed]",
      "text/plain": [
       "<Figure size 864x360 with 3 Axes>"
      ]
     },
     "metadata": {
      "needs_background": "light"
     },
     "output_type": "display_data"
    }
   ],
   "source": [
    "# Plotting a categorical estimate plot of Crime area by Descent\n",
    "g = sns.catplot(y=\"Area Name\", col=\"Victim Descent\",\n",
    "                col_order= clean_df['Victim Descent'].value_counts()[:3].index\n",
    "                ,data=clean_df, kind=\"count\",height=5, aspect=.8,\n",
    "               order=clean_df['Area Name'].value_counts().index)\n",
    "\n",
    "# Setting label an title for first facet\n",
    "g.axes[0,0].set_xlabel('Number of Victims')\n",
    "g.axes[0,0].set_title('Latinx Victims')\n",
    "\n",
    "# Setting label an title for second facet\n",
    "g.axes[0,1].set_xlabel('Number of Victims')\n",
    "g.axes[0,1].set_title('White Victims')\n",
    "\n",
    "# Setting label an title for third facet\n",
    "g.axes[0,2].set_xlabel('Number of Victims')\n",
    "g.axes[0,2].set_title('Black Victims')\n",
    "\n",
    "#setting figure title for facetgrid plot\n",
    "g.fig.suptitle('Los Angeles- Distribution of top 3 Victim Descents by Crime Area ', y = 1.05);"
   ]
  },
  {
   "cell_type": "markdown",
   "metadata": {},
   "source": [
    "Looking at the top 3 vulnerable demographics in LA, Black and Latinx communities has most suffered in the highest crime occuring areas of 77th Street and Southeast. This could also be that there are lesser White people living in these two areas. White victims are highest in the North Hollywood, Pacific areas. Again, this could be because these areas have higher white population. Similarly, areas such as Mission, Newton, Rampart, Foothill and Hollenbeck have a higher number of Latinx victims than the other descents."
   ]
  },
  {
   "cell_type": "markdown",
   "metadata": {},
   "source": [
    "#### What year had the highest crime rate? \n",
    "To explore data on this query we must first convert the data to where the columns hold annual data and the rows hold monthly data"
   ]
  },
  {
   "cell_type": "code",
   "execution_count": 51,
   "metadata": {},
   "outputs": [
    {
     "data": {
      "text/html": [
       "<div>\n",
       "<style scoped>\n",
       "    .dataframe tbody tr th:only-of-type {\n",
       "        vertical-align: middle;\n",
       "    }\n",
       "\n",
       "    .dataframe tbody tr th {\n",
       "        vertical-align: top;\n",
       "    }\n",
       "\n",
       "    .dataframe thead th {\n",
       "        text-align: right;\n",
       "    }\n",
       "</style>\n",
       "<table border=\"1\" class=\"dataframe\">\n",
       "  <thead>\n",
       "    <tr style=\"text-align: right;\">\n",
       "      <th></th>\n",
       "      <th>Date</th>\n",
       "      <th>crime_count</th>\n",
       "    </tr>\n",
       "  </thead>\n",
       "  <tbody>\n",
       "    <tr>\n",
       "      <th>0</th>\n",
       "      <td>2010-01-01</td>\n",
       "      <td>2222</td>\n",
       "    </tr>\n",
       "    <tr>\n",
       "      <th>1</th>\n",
       "      <td>2010-01-02</td>\n",
       "      <td>533</td>\n",
       "    </tr>\n",
       "  </tbody>\n",
       "</table>\n",
       "</div>"
      ],
      "text/plain": [
       "         Date  crime_count\n",
       "0  2010-01-01         2222\n",
       "1  2010-01-02          533"
      ]
     },
     "execution_count": 51,
     "metadata": {},
     "output_type": "execute_result"
    }
   ],
   "source": [
    "# Grouping data by date in index\n",
    "crime_volume = pd.DataFrame(clean_df.groupby(clean_df.index.date).size(), \n",
    "                            columns=['crime_count']).reset_index()\n",
    "\n",
    "# pulling out date from index to convert to datetime object\n",
    "crime_volume.rename(columns = {'index':'Date'}, inplace = True)\n",
    "\n",
    "#preview data\n",
    "crime_volume.head(2)"
   ]
  },
  {
   "cell_type": "code",
   "execution_count": 52,
   "metadata": {},
   "outputs": [
    {
     "name": "stdout",
     "output_type": "stream",
     "text": [
      "<class 'pandas.core.frame.DataFrame'>\n",
      "RangeIndex: 3460 entries, 0 to 3459\n",
      "Data columns (total 2 columns):\n",
      "Date           3460 non-null object\n",
      "crime_count    3460 non-null int64\n",
      "dtypes: int64(1), object(1)\n",
      "memory usage: 54.2+ KB\n"
     ]
    }
   ],
   "source": [
    "# Data info \n",
    "crime_volume.info()"
   ]
  },
  {
   "cell_type": "code",
   "execution_count": 53,
   "metadata": {},
   "outputs": [
    {
     "data": {
      "text/html": [
       "<div>\n",
       "<style scoped>\n",
       "    .dataframe tbody tr th:only-of-type {\n",
       "        vertical-align: middle;\n",
       "    }\n",
       "\n",
       "    .dataframe tbody tr th {\n",
       "        vertical-align: top;\n",
       "    }\n",
       "\n",
       "    .dataframe thead th {\n",
       "        text-align: right;\n",
       "    }\n",
       "</style>\n",
       "<table border=\"1\" class=\"dataframe\">\n",
       "  <thead>\n",
       "    <tr style=\"text-align: right;\">\n",
       "      <th></th>\n",
       "      <th>crime_count</th>\n",
       "    </tr>\n",
       "    <tr>\n",
       "      <th>Date</th>\n",
       "      <th></th>\n",
       "    </tr>\n",
       "  </thead>\n",
       "  <tbody>\n",
       "    <tr>\n",
       "      <th>2010-01-01</th>\n",
       "      <td>2222</td>\n",
       "    </tr>\n",
       "    <tr>\n",
       "      <th>2010-01-02</th>\n",
       "      <td>533</td>\n",
       "    </tr>\n",
       "  </tbody>\n",
       "</table>\n",
       "</div>"
      ],
      "text/plain": [
       "            crime_count\n",
       "Date                   \n",
       "2010-01-01         2222\n",
       "2010-01-02          533"
      ]
     },
     "execution_count": 53,
     "metadata": {},
     "output_type": "execute_result"
    }
   ],
   "source": [
    "# Converting Date column to datetime object\n",
    "crime_volume['Date']= pd.to_datetime(crime_volume['Date'], format='%Y-%m-%d')\n",
    "\n",
    "#setting datetime object as index\n",
    "crime_volume.set_index('Date', inplace=True)\n",
    "\n",
    "# preview data\n",
    "crime_volume.head(2)"
   ]
  },
  {
   "cell_type": "code",
   "execution_count": 55,
   "metadata": {},
   "outputs": [
    {
     "data": {
      "text/html": [
       "<div>\n",
       "<style scoped>\n",
       "    .dataframe tbody tr th:only-of-type {\n",
       "        vertical-align: middle;\n",
       "    }\n",
       "\n",
       "    .dataframe tbody tr th {\n",
       "        vertical-align: top;\n",
       "    }\n",
       "\n",
       "    .dataframe thead th {\n",
       "        text-align: right;\n",
       "    }\n",
       "</style>\n",
       "<table border=\"1\" class=\"dataframe\">\n",
       "  <thead>\n",
       "    <tr style=\"text-align: right;\">\n",
       "      <th></th>\n",
       "      <th>crime_count</th>\n",
       "    </tr>\n",
       "    <tr>\n",
       "      <th>Date</th>\n",
       "      <th></th>\n",
       "    </tr>\n",
       "  </thead>\n",
       "  <tbody>\n",
       "    <tr>\n",
       "      <th>2010-01-01</th>\n",
       "      <td>624.94</td>\n",
       "    </tr>\n",
       "    <tr>\n",
       "      <th>2010-02-01</th>\n",
       "      <td>571.39</td>\n",
       "    </tr>\n",
       "    <tr>\n",
       "      <th>2010-03-01</th>\n",
       "      <td>584.10</td>\n",
       "    </tr>\n",
       "    <tr>\n",
       "      <th>2010-04-01</th>\n",
       "      <td>591.60</td>\n",
       "    </tr>\n",
       "    <tr>\n",
       "      <th>2010-05-01</th>\n",
       "      <td>570.94</td>\n",
       "    </tr>\n",
       "  </tbody>\n",
       "</table>\n",
       "</div>"
      ],
      "text/plain": [
       "            crime_count\n",
       "Date                   \n",
       "2010-01-01       624.94\n",
       "2010-02-01       571.39\n",
       "2010-03-01       584.10\n",
       "2010-04-01       591.60\n",
       "2010-05-01       570.94"
      ]
     },
     "execution_count": 55,
     "metadata": {},
     "output_type": "execute_result"
    }
   ],
   "source": [
    "# Resample monthly average crime from datetime index\n",
    "monthly_crime=round(crime_volume.resample('MS').mean(),2)\n",
    "\n",
    "#preview data\n",
    "monthly_crime.head()"
   ]
  },
  {
   "cell_type": "code",
   "execution_count": 56,
   "metadata": {},
   "outputs": [
    {
     "data": {
      "text/html": [
       "<div>\n",
       "<style scoped>\n",
       "    .dataframe tbody tr th:only-of-type {\n",
       "        vertical-align: middle;\n",
       "    }\n",
       "\n",
       "    .dataframe tbody tr th {\n",
       "        vertical-align: top;\n",
       "    }\n",
       "\n",
       "    .dataframe thead th {\n",
       "        text-align: right;\n",
       "    }\n",
       "</style>\n",
       "<table border=\"1\" class=\"dataframe\">\n",
       "  <thead>\n",
       "    <tr style=\"text-align: right;\">\n",
       "      <th></th>\n",
       "      <th>2010</th>\n",
       "      <th>2011</th>\n",
       "      <th>2012</th>\n",
       "      <th>2013</th>\n",
       "      <th>2014</th>\n",
       "      <th>2015</th>\n",
       "      <th>2016</th>\n",
       "      <th>2017</th>\n",
       "      <th>2018</th>\n",
       "    </tr>\n",
       "  </thead>\n",
       "  <tbody>\n",
       "    <tr>\n",
       "      <th>0</th>\n",
       "      <td>624.94</td>\n",
       "      <td>580.23</td>\n",
       "      <td>572.84</td>\n",
       "      <td>536.65</td>\n",
       "      <td>517.71</td>\n",
       "      <td>586.77</td>\n",
       "      <td>609.06</td>\n",
       "      <td>625.58</td>\n",
       "      <td>617.13</td>\n",
       "    </tr>\n",
       "    <tr>\n",
       "      <th>1</th>\n",
       "      <td>571.39</td>\n",
       "      <td>523.61</td>\n",
       "      <td>528.17</td>\n",
       "      <td>501.32</td>\n",
       "      <td>487.89</td>\n",
       "      <td>570.75</td>\n",
       "      <td>596.00</td>\n",
       "      <td>609.18</td>\n",
       "      <td>608.00</td>\n",
       "    </tr>\n",
       "    <tr>\n",
       "      <th>2</th>\n",
       "      <td>584.10</td>\n",
       "      <td>545.87</td>\n",
       "      <td>534.29</td>\n",
       "      <td>521.84</td>\n",
       "      <td>502.45</td>\n",
       "      <td>579.45</td>\n",
       "      <td>587.87</td>\n",
       "      <td>623.74</td>\n",
       "      <td>610.16</td>\n",
       "    </tr>\n",
       "    <tr>\n",
       "      <th>3</th>\n",
       "      <td>591.60</td>\n",
       "      <td>547.33</td>\n",
       "      <td>542.53</td>\n",
       "      <td>523.30</td>\n",
       "      <td>513.47</td>\n",
       "      <td>563.47</td>\n",
       "      <td>619.00</td>\n",
       "      <td>622.77</td>\n",
       "      <td>634.20</td>\n",
       "    </tr>\n",
       "    <tr>\n",
       "      <th>4</th>\n",
       "      <td>570.94</td>\n",
       "      <td>545.90</td>\n",
       "      <td>563.48</td>\n",
       "      <td>534.61</td>\n",
       "      <td>538.55</td>\n",
       "      <td>577.10</td>\n",
       "      <td>612.97</td>\n",
       "      <td>624.71</td>\n",
       "      <td>639.42</td>\n",
       "    </tr>\n",
       "  </tbody>\n",
       "</table>\n",
       "</div>"
      ],
      "text/plain": [
       "     2010    2011    2012    2013    2014    2015    2016    2017    2018\n",
       "0  624.94  580.23  572.84  536.65  517.71  586.77  609.06  625.58  617.13\n",
       "1  571.39  523.61  528.17  501.32  487.89  570.75  596.00  609.18  608.00\n",
       "2  584.10  545.87  534.29  521.84  502.45  579.45  587.87  623.74  610.16\n",
       "3  591.60  547.33  542.53  523.30  513.47  563.47  619.00  622.77  634.20\n",
       "4  570.94  545.90  563.48  534.61  538.55  577.10  612.97  624.71  639.42"
      ]
     },
     "execution_count": 56,
     "metadata": {},
     "output_type": "execute_result"
    }
   ],
   "source": [
    "# Grouping data annually\n",
    "year_groups= monthly_crime.groupby(pd.Grouper(freq='A'))\n",
    "\n",
    "# Create a new DataFrame and store yearly values in columns \n",
    "annual_crime = pd.DataFrame()\n",
    "\n",
    "#looping throup the year_unemp groupby object as a tuple\n",
    "for date,group in year_groups:\n",
    "    year = date.year          #pulling the year from datetime object\n",
    "    if year == 2019:          # removing year for incomplete data\n",
    "        break\n",
    "    series = group.values.ravel()  # flattening the array\n",
    "    annual_crime[year] = series\n",
    "    \n",
    "annual_crime.head()"
   ]
  },
  {
   "cell_type": "markdown",
   "metadata": {},
   "source": [
    "**Now we investigate the query of highest crime rate for each year in data with a boxplot**"
   ]
  },
  {
   "cell_type": "code",
   "execution_count": 57,
   "metadata": {},
   "outputs": [
    {
     "data": {
      "image/png": "[encoded data removed]",
      "text/plain": [
       "<Figure size 864x504 with 1 Axes>"
      ]
     },
     "metadata": {
      "needs_background": "light"
     },
     "output_type": "display_data"
    }
   ],
   "source": [
    "# Generate a box and whiskers plot for last 10 years\n",
    "annual_crime.boxplot(figsize=(12,7))\n",
    "\n",
    "#Setting figure title\n",
    "plt.title('Los Angeles Volume of Crime Trend between 2010 - 2019')\n",
    "\n",
    "#Setting x and y label\n",
    "plt.xlabel('Years')\n",
    "plt.ylabel('Volume of Crime')\n",
    "\n",
    "plt.show();"
   ]
  },
  {
   "cell_type": "markdown",
   "metadata": {},
   "source": [
    "From the plot we can see that 2017 saw the highest average number of crimes reported, while 2013 saw the lowest average number of crime reported in LA. "
   ]
  },
  {
   "cell_type": "code",
   "execution_count": null,
   "metadata": {},
   "outputs": [],
   "source": []
  },
  {
   "cell_type": "code",
   "execution_count": 59,
   "metadata": {},
   "outputs": [],
   "source": [
    "# monthly_crime = pd.read_pickle('data/pickled/monthly_crime.pkl')"
   ]
  },
  {
   "cell_type": "markdown",
   "metadata": {},
   "source": [
    "## Data Analysis"
   ]
  },
  {
   "cell_type": "code",
   "execution_count": null,
   "metadata": {},
   "outputs": [],
   "source": []
  },
  {
   "cell_type": "code",
   "execution_count": null,
   "metadata": {},
   "outputs": [],
   "source": []
  },
  {
   "cell_type": "code",
   "execution_count": null,
   "metadata": {},
   "outputs": [],
   "source": []
  },
  {
   "cell_type": "code",
   "execution_count": null,
   "metadata": {},
   "outputs": [],
   "source": []
  },
  {
   "cell_type": "code",
   "execution_count": null,
   "metadata": {},
   "outputs": [],
   "source": []
  },
  {
   "cell_type": "code",
   "execution_count": null,
   "metadata": {},
   "outputs": [],
   "source": []
  },
  {
   "cell_type": "code",
   "execution_count": null,
   "metadata": {},
   "outputs": [],
   "source": []
  },
  {
   "cell_type": "code",
   "execution_count": null,
   "metadata": {},
   "outputs": [],
   "source": []
  },
  {
   "cell_type": "code",
   "execution_count": null,
   "metadata": {},
   "outputs": [],
   "source": []
  },
  {
   "cell_type": "code",
   "execution_count": null,
   "metadata": {},
   "outputs": [],
   "source": []
  },
  {
   "cell_type": "code",
   "execution_count": null,
   "metadata": {},
   "outputs": [],
   "source": []
  },
  {
   "cell_type": "code",
   "execution_count": null,
   "metadata": {},
   "outputs": [],
   "source": []
  },
  {
   "cell_type": "code",
   "execution_count": null,
   "metadata": {},
   "outputs": [],
   "source": []
  }
 ],
 "metadata": {
  "kernelspec": {
   "display_name": "learn-env",
   "language": "python",
   "name": "learn-env"
  },
  "language_info": {
   "codemirror_mode": {
    "name": "ipython",
    "version": 3
   },
   "file_extension": ".py",
   "mimetype": "text/x-python",
   "name": "python",
   "nbconvert_exporter": "python",
   "pygments_lexer": "ipython3",
   "version": "3.6.9"
  }
 },
 "nbformat": 4,
 "nbformat_minor": 4
}
